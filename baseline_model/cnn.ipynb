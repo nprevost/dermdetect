{
 "cells": [
  {
   "cell_type": "code",
   "execution_count": 1,
   "metadata": {},
   "outputs": [
    {
     "name": "stdout",
     "output_type": "stream",
     "text": [
      "Nombre total d'images disponibles après correspondance : 72600\n",
      "Nombre d'images dans l'échantillon de 20% : 14520\n",
      "Les images de l'échantillon ont été copiées dans : /Users/maurice/Documents/data_nogit/Dermdetect/SAMPLE_20\n",
      "CSV de l'échantillon sauvegardé dans : /Users/maurice/Documents/certification/dermdetect/csv/sample_dataset.csv\n"
     ]
    }
   ],
   "source": [
    "import pandas as pd\n",
    "import os\n",
    "import shutil\n",
    "\n",
    "# Définition des chemins\n",
    "csv_path = \"/Users/maurice/Documents/certification/dermdetect/csv/dataset.csv\"\n",
    "image_dir = \"/Users/maurice/Documents/data_nogit/Dermdetect/ALL\"\n",
    "sampled_image_dir = \"/Users/maurice/Documents/data_nogit/Dermdetect/SAMPLE_20\"\n",
    "sample_csv_path = \"/Users/maurice/Documents/certification/dermdetect/csv/sample_dataset.csv\"\n",
    "\n",
    "# Charger le fichier CSV\n",
    "df = pd.read_csv(csv_path)\n",
    "\n",
    "# Normalisation des noms d'images (suppression des espaces et conversion en minuscules)\n",
    "df['image_id'] = df['image_id'].str.strip().str.lower()\n",
    "\n",
    "# Vérification des fichiers disponibles dans le dossier\n",
    "files_in_directory = [f.lower() for f in os.listdir(image_dir)]\n",
    "\n",
    "# Ajouter le chemin complet et filtrer les fichiers existants\n",
    "df['image_path'] = df['image_id'].apply(lambda x: os.path.join(image_dir, x))\n",
    "df = df[df['image_path'].apply(lambda x: os.path.basename(x) in files_in_directory)]\n",
    "\n",
    "print(f\"Nombre total d'images disponibles après correspondance : {len(df)}\")\n",
    "\n",
    "# Échantillonnage de 20 % avec une graine fixe pour reproductibilité\n",
    "SAMPLE_SIZE = 0.20  # 20% des données\n",
    "SEED = 42  # Graine fixe\n",
    "\n",
    "df_sample = df.sample(frac=SAMPLE_SIZE, random_state=SEED)\n",
    "\n",
    "print(f\"Nombre d'images dans l'échantillon de 20% : {len(df_sample)}\")\n",
    "\n",
    "# Créer le dossier pour stocker l'échantillon si nécessaire\n",
    "if not os.path.exists(sampled_image_dir):\n",
    "    os.makedirs(sampled_image_dir)\n",
    "\n",
    "# Copier les images sélectionnées dans le dossier d'échantillon\n",
    "for _, row in df_sample.iterrows():\n",
    "    src_path = row['image_path']\n",
    "    dest_path = os.path.join(sampled_image_dir, os.path.basename(row['image_id']))\n",
    "    shutil.copy(src_path, dest_path)\n",
    "\n",
    "print(f\"Les images de l'échantillon ont été copiées dans : {sampled_image_dir}\")\n",
    "\n",
    "# Sauvegarder l'échantillon dans un fichier CSV pour les étapes suivantes\n",
    "df_sample[[\"image_id\", \"target\"]].to_csv(sample_csv_path, index=False)\n",
    "\n",
    "print(f\"CSV de l'échantillon sauvegardé dans : {sample_csv_path}\")\n"
   ]
  },
  {
   "cell_type": "code",
   "execution_count": 2,
   "metadata": {},
   "outputs": [
    {
     "data": {
      "text/plain": [
       "target\n",
       "0    37055\n",
       "1    35545\n",
       "Name: count, dtype: int64"
      ]
     },
     "execution_count": 2,
     "metadata": {},
     "output_type": "execute_result"
    }
   ],
   "source": [
    "# Compter le nombre d'occurrences de chaque classe dans la colonne 'target'\n",
    "target_counts = df['target'].value_counts()\n",
    "\n",
    "# Affichage du nombre de 0 et de 1\n",
    "target_counts"
   ]
  },
  {
   "cell_type": "code",
   "execution_count": 3,
   "metadata": {},
   "outputs": [
    {
     "data": {
      "text/plain": [
       "target\n",
       "0    7423\n",
       "1    7097\n",
       "Name: count, dtype: int64"
      ]
     },
     "execution_count": 3,
     "metadata": {},
     "output_type": "execute_result"
    }
   ],
   "source": [
    "# Compter le nombre d'occurrences de chaque classe dans l'échantillon\n",
    "sample_target_counts = df_sample['target'].value_counts()\n",
    "\n",
    "# Affichage du nombre de 0 et de 1 dans l'échantillon\n",
    "sample_target_counts"
   ]
  },
  {
   "cell_type": "code",
   "execution_count": null,
   "metadata": {},
   "outputs": [],
   "source": []
  }
 ],
 "metadata": {
  "kernelspec": {
   "display_name": "base",
   "language": "python",
   "name": "python3"
  },
  "language_info": {
   "codemirror_mode": {
    "name": "ipython",
    "version": 3
   },
   "file_extension": ".py",
   "mimetype": "text/x-python",
   "name": "python",
   "nbconvert_exporter": "python",
   "pygments_lexer": "ipython3",
   "version": "3.12.2"
  }
 },
 "nbformat": 4,
 "nbformat_minor": 2
}
