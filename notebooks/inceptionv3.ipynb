{
 "cells": [
  {
   "cell_type": "code",
   "execution_count": 1,
   "metadata": {},
   "outputs": [],
   "source": [
    "import os\n",
    "import pandas as pd\n",
    "import tensorflow as tf\n",
    "from tensorflow.keras.applications import InceptionV3\n",
    "from tensorflow.keras.models import Model\n",
    "from tensorflow.keras.layers import Dense, GlobalAveragePooling2D\n",
    "from tensorflow.keras.optimizers import Adam\n",
    "from tensorflow.keras.callbacks import EarlyStopping\n",
    "import matplotlib.pyplot as plt\n",
    "from sklearn.metrics import confusion_matrix, roc_curve, auc\n",
    "import numpy as np\n",
    "import plotly.express as px"
   ]
  },
  {
   "cell_type": "code",
   "execution_count": 21,
   "metadata": {},
   "outputs": [],
   "source": [
    "# Set up paths (Modify these paths based on your system)\n",
    "sample_csv_path = \"C:\\\\Users\\\\Lian4ik\\\\Desktop\\\\derm_project\\\\data\\\\sample_dataset.csv\"\n",
    "sample_image_dir = \"C:\\\\Users\\\\Lian4ik\\\\Desktop\\\\derm_project\\\\data\\\\sample_images\""
   ]
  },
  {
   "cell_type": "code",
   "execution_count": 22,
   "metadata": {},
   "outputs": [
    {
     "name": "stdout",
     "output_type": "stream",
     "text": [
      "             image_id  target\n",
      "0  isic_0012208_4.jpg       1\n",
      "1  isic_6850708_0.jpg       0\n",
      "2  isic_0011045_4.jpg       1\n",
      "3  isic_0031784_0.jpg       1\n",
      "4  isic_0021274_0.jpg       0\n"
     ]
    }
   ],
   "source": [
    "# Load the dataset\n",
    "df_sample = pd.read_csv(sample_csv_path)\n",
    "print(df_sample.head())  # Check if the dataset is loaded correctly"
   ]
  },
  {
   "cell_type": "code",
   "execution_count": 23,
   "metadata": {},
   "outputs": [],
   "source": [
    "# Image preprocessing for inceptionV3\n",
    "img_generator = tf.keras.preprocessing.image.ImageDataGenerator(\n",
    "    preprocessing_function=tf.keras.applications.inception_v3.preprocess_input,\n",
    "    validation_split=0.3\n",
    ")"
   ]
  },
  {
   "cell_type": "code",
   "execution_count": 24,
   "metadata": {},
   "outputs": [],
   "source": [
    "df_sample[\"target\"] = df_sample[\"target\"].astype(str)\n"
   ]
  },
  {
   "cell_type": "code",
   "execution_count": 25,
   "metadata": {},
   "outputs": [
    {
     "name": "stdout",
     "output_type": "stream",
     "text": [
      "Found 10164 validated image filenames belonging to 2 classes.\n"
     ]
    }
   ],
   "source": [
    "# Train generator\n",
    "train_generator = img_generator.flow_from_dataframe(\n",
    "    dataframe=df_sample,\n",
    "    directory=sample_image_dir,\n",
    "    x_col=\"image_id\",\n",
    "    y_col=\"target\",\n",
    "    target_size=(299, 299),\n",
    "    batch_size=32,\n",
    "    class_mode=\"binary\",\n",
    "    shuffle=False,\n",
    "    subset=\"training\",\n",
    "    seed=4\n",
    ")"
   ]
  },
  {
   "cell_type": "code",
   "execution_count": 26,
   "metadata": {},
   "outputs": [
    {
     "name": "stdout",
     "output_type": "stream",
     "text": [
      "Found 4356 validated image filenames belonging to 2 classes.\n"
     ]
    }
   ],
   "source": [
    "# Validation generator\n",
    "val_generator = img_generator.flow_from_dataframe(\n",
    "    dataframe=df_sample,\n",
    "    directory=sample_image_dir,\n",
    "    x_col=\"image_id\",\n",
    "    y_col=\"target\",\n",
    "    target_size=(299, 299),\n",
    "    batch_size=32,\n",
    "    class_mode=\"binary\",\n",
    "    shuffle=False,  # Ensure validation order remains consistent\n",
    "    subset=\"validation\",\n",
    "    seed=42\n",
    ")"
   ]
  },
  {
   "cell_type": "code",
   "execution_count": 27,
   "metadata": {},
   "outputs": [],
   "source": [
    "# Load the pre-trained InceptionV3 model\n",
    "base_model = InceptionV3(weights='imagenet', include_top=False, input_shape=(299, 299, 3))"
   ]
  },
  {
   "cell_type": "code",
   "execution_count": 28,
   "metadata": {},
   "outputs": [],
   "source": [
    "# Fine-tune last 30 layers\n",
    "for layer in base_model.layers[-30:]:\n",
    "    layer.trainable = True\n"
   ]
  },
  {
   "cell_type": "code",
   "execution_count": 29,
   "metadata": {},
   "outputs": [],
   "source": [
    "# Add custom layers\n",
    "x = base_model.output\n",
    "x = GlobalAveragePooling2D()(x)\n",
    "x = Dense(128, activation='relu')(x)\n",
    "output = Dense(1, activation='sigmoid')(x)   # output = Dense(1, activation='sigmoid')(x)\n",
    "# for softmax: class_mode=\"categorical\"   \n",
    "# for sigmoid: class_mode= \"binary\"\n",
    "# for softmax: loss='categorical_crossentropy'\n",
    "# for sigmoid: loss='binary_crossentropy'\n",
    "# with softmax: y_pred = np.argmax(model.predict(val_generator), axis=1)  -> Gets index of highest probability\n",
    "\n"
   ]
  },
  {
   "cell_type": "code",
   "execution_count": 30,
   "metadata": {},
   "outputs": [],
   "source": [
    "# Create final model\n",
    "model = Model(inputs=base_model.input, outputs=output)"
   ]
  },
  {
   "cell_type": "code",
   "execution_count": 31,
   "metadata": {},
   "outputs": [],
   "source": [
    "# Compile the model\n",
    "model.compile(\n",
    "    optimizer=Adam(learning_rate=5e-5),\n",
    "    loss='binary_crossentropy',\n",
    "    metrics=[\n",
    "        'accuracy',      # Percentage of correct predictions.\n",
    "        tf.keras.metrics.AUC(name=\"auc\"),  # how well the model separates classes across thresholds\n",
    "        tf.keras.metrics.Precision(name=\"precision\"),   # proportion of predicted malignant cases that are actually malignant (High precision = fewer false positives (FP))\n",
    "        tf.keras.metrics.Recall(name=\"recall\")    # The proportion of actual malignant cases that were correctly identified  (High recall = fewer false negatives (FN))\n",
    "    ]\n",
    ")\n"
   ]
  },
  {
   "cell_type": "code",
   "execution_count": 32,
   "metadata": {},
   "outputs": [],
   "source": [
    "# Set early stopping criteria\n",
    "early_stopping = EarlyStopping(monitor='val_loss', patience=5, restore_best_weights=True)"
   ]
  },
  {
   "cell_type": "code",
   "execution_count": null,
   "metadata": {},
   "outputs": [
    {
     "name": "stdout",
     "output_type": "stream",
     "text": [
      "\u001b[1m 15/318\u001b[0m \u001b[37m━━━━━━━━━━━━━━━━━━━━\u001b[0m \u001b[1m3:42:48\u001b[0m 44s/step - accuracy: 0.5956 - auc: 0.6374 - loss: 0.6709 - precision: 0.6524 - recall: 0.4826"
     ]
    }
   ],
   "source": [
    "# Train the model\n",
    "history = model.fit(\n",
    "    train_generator,\n",
    "    epochs=1,\n",
    "    validation_data=val_generator,\n",
    "    verbose=1,\n",
    "    callbacks=[early_stopping]\n",
    ")"
   ]
  },
  {
   "cell_type": "code",
   "execution_count": null,
   "metadata": {},
   "outputs": [],
   "source": [
    "y_true = np.array(val_generator.classes)  # Ensure correct order\n",
    "y_pred_prob = model.predict(val_generator).ravel()  # Get probabilities\n",
    "\n",
    "# Find the best decision threshold from ROC curve\n",
    "fpr, tpr, thresholds = roc_curve(y_true, y_pred_prob)\n",
    "optimal_idx = np.argmax(tpr - fpr)  # Best balance between TPR & FPR\n",
    "optimal_threshold = thresholds[optimal_idx]\n",
    "\n",
    "# Convert probabilities to binary labels using the best threshold\n",
    "y_pred = (y_pred_prob > optimal_threshold).astype(\"int32\")\n",
    "\n",
    "print(f\"Optimal Threshold: {optimal_threshold:.4f}\")\n"
   ]
  },
  {
   "cell_type": "code",
   "execution_count": null,
   "metadata": {},
   "outputs": [],
   "source": [
    "# Compute metrics\n",
    "accuracy = np.mean(y_pred == y_true)\n",
    "precision = precision_score(y_true, y_pred)\n",
    "recall = recall_score(y_true, y_pred)\n",
    "f1 = f1_score(y_true, y_pred)"
   ]
  },
  {
   "cell_type": "code",
   "execution_count": null,
   "metadata": {},
   "outputs": [],
   "source": [
    "# Print evaluation results\n",
    "print(f\"Validation Accuracy: {accuracy:.4f}\")\n",
    "print(f\"Validation Precision: {precision:.4f}\")\n",
    "print(f\"Validation Recall: {recall:.4f}\")\n",
    "print(f\"Validation F1 Score: {f1:.4f}\")\n",
    "print(f\"Validation AUC: {roc_auc:.4f}\")"
   ]
  },
  {
   "cell_type": "code",
   "execution_count": null,
   "metadata": {},
   "outputs": [],
   "source": [
    "# Compute confusion matrix\n",
    "cm = confusion_matrix(y_true, y_pred)\n",
    "df_cm = pd.DataFrame(cm, index=['Benign', 'Malignant'], columns=['Benign', 'Malignant'])\n",
    "fig = px.imshow(df_cm, text_auto=True, color_continuous_scale='Blues')\n",
    "fig.show()"
   ]
  },
  {
   "cell_type": "code",
   "execution_count": null,
   "metadata": {},
   "outputs": [],
   "source": [
    "# Save the trained model\n",
    "model.save(\"inceptionV3_model.keras\")\n",
    "print(\"Model saved as inceptionV3_model.keras\")"
   ]
  },
  {
   "cell_type": "code",
   "execution_count": null,
   "metadata": {},
   "outputs": [],
   "source": []
  }
 ],
 "metadata": {
  "kernelspec": {
   "display_name": ".venv",
   "language": "python",
   "name": "python3"
  },
  "language_info": {
   "codemirror_mode": {
    "name": "ipython",
    "version": 3
   },
   "file_extension": ".py",
   "mimetype": "text/x-python",
   "name": "python",
   "nbconvert_exporter": "python",
   "pygments_lexer": "ipython3",
   "version": "3.12.4"
  }
 },
 "nbformat": 4,
 "nbformat_minor": 2
}
