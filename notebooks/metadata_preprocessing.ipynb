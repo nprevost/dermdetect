{
 "cells": [
  {
   "cell_type": "code",
   "execution_count": 4,
   "metadata": {},
   "outputs": [
    {
     "name": "stdout",
     "output_type": "stream",
     "text": [
      "File exists and is not empty. Proceeding...\n"
     ]
    }
   ],
   "source": [
    "import os\n",
    "\n",
    "metadata_path = r\"C:\\Users\\Lian4ik\\Desktop\\derm_project\\data\\metadata.csv\"\n",
    "\n",
    "# Check if file exists\n",
    "if not os.path.exists(metadata_path):\n",
    "    print(\"Error: metadata.csv file does not exist!\")\n",
    "\n",
    "# Check if file is empty\n",
    "elif os.stat(metadata_path).st_size == 0:\n",
    "    print(\"Error: metadata.csv file is empty!\")\n",
    "\n",
    "else:\n",
    "    print(\"File exists and is not empty. Proceeding...\")\n"
   ]
  },
  {
   "cell_type": "code",
   "execution_count": 5,
   "metadata": {},
   "outputs": [
    {
     "name": "stdout",
     "output_type": "stream",
     "text": [
      "isic_id,copyright_licence,full_url,full_size,256_url,256_size,pixels_x,pixels_y,image_type,concomitant_biopsy,sex,anatom_site_general,benign_malignant,diagnosis_1,diagnosis_confirm_type,age_approx,lesion_id,patient_id\n",
      "ISIC_1064919,CC-BY-NC,https://content.isic-archive.com/e11a451e-56d3-44f2-9243-29206255abce/6b316107-c302-4ca6-9a53-50d24c6a671c.jpg?Expires=1738627200&Signature=XK5pLuk3gB9ddLHyMnuVbUpWEcJB5CgltH~YRGdF7PbaxDocgAGktnuRtUZvau4QjnYINuLOadU2pL~0hPm929vBjoBCpw4NEdPbCzwke7w0ONO-AqDs3jovQOViA2c1XFUkI5cIDzzFxm6wmwxU7TmeqzfShc6uC8kOgB20DuwdPltGO9DePYgCvaWgsh9kWsOm5dWwsFebsuilYjEmnnBadN~nwL-1XZt-f4-mvF0C8PNudx0W9nmK1iYlQbcFEQOXiQ-TEMZvlZUMY3x21AloAbc~-eIyjk5t0IR26JeHZK~GRKQ9Dscu3uPlJZnwiI5ghEVcTLy82YkuTEublA__&Key-Pair-Id=K3KFHCM130RXTL,153259,https://content.isic-archive.com/eed95197-f4fc-4fd7-869d-d9a8216c254a/ISIC_1064919_thumbnail_256.jpg?Expires=1738627200&Signature=dFERtYCW-bMdY1Jfahg~9dth5pCFpfJ7YPBe6CLWVYD8i5UmUQ~ckoa0ZhUJCQO~TPndMWTePwo91~FEYgbUXs0w5izGPgCOCKIjpwoxx33BrWl6~XU1A420wRK1Hc3eg3f-HAl6Lrn-~iY69WauXiEX4dx9hF90O0cWjGpm26ubCml0KatW3bkI9lRqCbzp5UfeoGArHc0D-DXwaQgdGokALjS10UEVLpaAownF8Lw3pJEO83YWF77UzTjt6DFtfEjbYKXlqcA6MHzujLAo4PF~iJbnhVDDglouV6R2BWUSLNcHoRtJsnTLnoLQNmNy8mQyYDLG82PNBfmRzs-P3g__&Key-Pair-Id=K3KFHCM130RXTL,3302,1872,1053,dermoscopic,False,male,lower extremity,benign,Benign,serial imaging showing no change,50.0,IL_3752689,IP_8330575\n",
      "ISIC_2708737,CC-BY,https://content.isic-archive.com/7fd26d90-cbbd-48cb-b47c-c33aaa20c430/05a5123f-c9cb-4280-8d57-034a09c51228.jpg?Expires=1738627200&Signature=EwUR56rSaZCV7EbAXwT9HbBdURReJA9Uucl59Xax2zcqEZpRxhfAtGfput1vXcRROezkoBdpvwIPsEEod76A~VOpJkVtL4ZHyAvwlrckhJcZsPcWR9NNnLRnA02KyBmrOhviQnRbvk4Tk5mHKgHz7oX0zPazKmppuwy5d8YoEnAE-Y6fSVlDwI~LuPGvLgx0gXijq2VgErWOpTQFgwPPY9wsPGnODDWboXEwsHTfTRexNt8-FjmByXkzt8fj2CD0ITDMFm5310wg8w5HrsuxbjRqNrFo5oPbPQ4CJ-6ZS50MAyJ1bXsrEdlsJ1BHu3U1yfzjdxioA1peMdisjrmIJQ__&Key-Pair-Id=K3KFHCM130RXTL,1690118,https://content.isic-archive.com/d0ea6212-39f0-4d43-880b-749b1208ce95/ISIC_2708737_thumbnail_256.jpg?Expires=1738627200&Signature=TgijV6LfgzNcZAqHo1nzrFfigfo4zyfaF7UKvvakfaQ~Jp1GhgpX7FVz8oN3o5QCJGJWNOVMw1iLDS~bINR6WMoqOCLYVYBGwM1yGJb2kR7zEyxjZrecq9F4A0EFpIoKfBjch0ioef-ekutrPm~I3YYqJRtoiBc7bxxKrdTTQafcbO~yVWVvmkreOs3wfKMxxgcPiG2jtYKQFAAqiGsOjaIMNLl9Vf8QMGx6mNuNQK3VhGqiR3dHJVhHOjFQr5mRmmau87SlYKP7GUS0rqna1FgiKYgyKlzmhoK9oJsSlfdeVrmYjWl49~0JKL1lDSZajSx1k7iBOT2vNht59wKVmA__&Key-Pair-Id=K3KFHCM130RXTL,5031,6000,4000,dermoscopic,False,female,posterior torso,benign,Benign,serial imaging showing no change,65.0,IL_2374200,IP_8051701\n",
      "ISIC_1944865,CC-BY,https://content.isic-archive.com/d74f790a-4fdd-4988-8388-a0ce6356af29/92b09284-8bdd-4f58-871a-a7fd318fbce7.jpg?Expires=1738627200&Signature=b0eQbwvJCmb4pU0noJ8gLkLtGWdIlhJ4WpH3uVQBiCHRjkBF2ypYxJFqTttbPR1U9281AdGeT8P2OKLzzJfJHiR9nPHg4k00k2-f2q97gR3y64NGezKBkA329TQMXmaIXm97BJEWt4slIQUz9jJT0fNBIIwmw1FwKnM4NuQRHUrTH2GfijniJAsiSmEtBrunU1aNk8SmQkVu2h9kyoj6UqIq5ZU1XEteWk1QCzL9hc6M1D2Q8TeMe4-brlQlYeuRv358GsMiS4Q96FaS3iYazR~TyFUNbhj6-8mI51jdbK9K2VeORaS6FqX7oggsSeDIguCDFYRI2sq2XiP8UkV0Ng__&Key-Pair-Id=K3KFHCM130RXTL,1141325,https://content.isic-archive.com/2bfbd1eb-6bca-4e2d-a182-855743af3627/ISIC_1944865_thumbnail_256.jpg?Expires=1738627200&Signature=MVSf1P8NkzP~WtJHIl-jaReiKnRGvQDgf6uEKSY3rStyrmV2-woBmoEYFd8xDbOyRl1brAewKpb6vdAQXY31GLjo5f039JQHL-sY6Km0~Ov1C6eOBIdmG9PXRNycTX-7h0D~pv-DxEjPkDsD18tCbfFkyHcCHDv~tExEzVICeGypbcVbae1A~is497QbUUG-ADx~7IJXhSJh2y7rjzZfB~t9mtZ1wgsJ2N7XmvREqeBFzQoYveAi8cd0r1yhsFDVFwEukcSMopfmpl9PNfJDqrgYQ1glvU09IoO0gICLBNJEAQVU4wgEX~YlYHPM~EPTGVfOorlJh4TS-ENRnYSmUg__&Key-Pair-Id=K3KFHCM130RXTL,3271,6000,4000,dermoscopic,False,female,lower extremity,benign,Benign,serial imaging showing no change,45.0,IL_1790311,IP_5889408\n",
      "ISIC_0032083,CC-BY-NC,https://content.isic-archive.com/bd3a61e1-10b8-4ee7-903c-af409e9e4a61/0fbc1168-8a3e-42b4-97d3-edc6a8b11b41.jpg?Expires=1738627200&Signature=BWrSLNF0wke-yvQ4a7TgWbEb4gDarsKi2pN3v3L~p0T1XhDOCo2-5WncR30t1rJ17lwTJPDRHqJoJfc-O3M6hGM2gSebKfQM~FBX6CSGAJ0dVe1TrKJ1I2jWCoVHPxcPC97Q9MKqcESSmeMsrZA~PTT~0P0XQS5RSkh9aMqklZQ~hIUsBfH8QlmURMlAq5leLVmDNWwwEDn7mDJ7rD--aA5bD8HABo2nXiCBdeyKG4SnYLvxalYBV376~N3o2PjeSC3zxg8NlD7GcXlFZ89XlGvuYLplfq95G8y5oIZnJbl0qV6XZqlGSDaasQmeYAECKb2mDQddMpOY6YTMXfUfBA__&Key-Pair-Id=K3KFHCM130RXTL,19579,https://content.isic-archive.com/e0531cf3-420a-4acf-98e7-4df078e7e6ee/ISIC_0032083_thumbnail_256.jpg?Expires=1738627200&Signature=sDk7mZWwdsH~lJyabCWLFwRESvD5lLf5AGYq1h4HmBHadx91F4hertCuwUVbdolr9jP4wNhPW7ulutbfSzv8sAKBhWuck7vSWEzfcVk5qeyG3BpLh3pFIXbyp4GZnxEBiBC7ssvOdzTx5HuXBBepC~Z86dfeMRVvs38~J9rZoX~~PI~2M3pe7TSO~MSX3dXCuNVvhEa9DsSjJRsDq-a4u7FLqt146KKLzzbVcr77K4pZXAKEGRiDmmGU9G-q7Lmn6GmxZ5UwNqn2acieccOeYRX8C7IlPI~EPGji6VpP1rjxnc9agTAfnyhRGMbF~pV9HdZwp-hAeE5Wl0RYsrWnjA__&Key-Pair-Id=K3KFHCM130RXTL,3862,600,450,dermoscopic,False,female,,benign,Benign,serial imaging showing no change,55.0,IL_1497139,\n"
     ]
    }
   ],
   "source": [
    "with open(metadata_path, \"r\") as f:\n",
    "    for _ in range(5):  # Print the first 5 lines\n",
    "        print(f.readline().strip())"
   ]
  },
  {
   "cell_type": "code",
   "execution_count": 6,
   "metadata": {},
   "outputs": [],
   "source": [
    "df_metadata = pd.read_csv(metadata_path, encoding=\"utf-8\")"
   ]
  },
  {
   "cell_type": "code",
   "execution_count": 7,
   "metadata": {},
   "outputs": [
    {
     "name": "stdout",
     "output_type": "stream",
     "text": [
      "        isic_id copyright_licence  \\\n",
      "0  ISIC_1064919          CC-BY-NC   \n",
      "1  ISIC_2708737             CC-BY   \n",
      "2  ISIC_1944865             CC-BY   \n",
      "3  ISIC_0032083          CC-BY-NC   \n",
      "4  ISIC_0028959          CC-BY-NC   \n",
      "\n",
      "                                            full_url  full_size  \\\n",
      "0  https://content.isic-archive.com/e11a451e-56d3...     153259   \n",
      "1  https://content.isic-archive.com/7fd26d90-cbbd...    1690118   \n",
      "2  https://content.isic-archive.com/d74f790a-4fdd...    1141325   \n",
      "3  https://content.isic-archive.com/bd3a61e1-10b8...      19579   \n",
      "4  https://content.isic-archive.com/7b8adcca-2e9f...      26583   \n",
      "\n",
      "                                             256_url  256_size  pixels_x  \\\n",
      "0  https://content.isic-archive.com/eed95197-f4fc...      3302      1872   \n",
      "1  https://content.isic-archive.com/d0ea6212-39f0...      5031      6000   \n",
      "2  https://content.isic-archive.com/2bfbd1eb-6bca...      3271      6000   \n",
      "3  https://content.isic-archive.com/e0531cf3-420a...      3862       600   \n",
      "4  https://content.isic-archive.com/787e7f62-20b8...      6426       600   \n",
      "\n",
      "   pixels_y   image_type  concomitant_biopsy     sex anatom_site_general  \\\n",
      "0      1053  dermoscopic               False    male     lower extremity   \n",
      "1      4000  dermoscopic               False  female     posterior torso   \n",
      "2      4000  dermoscopic               False  female     lower extremity   \n",
      "3       450  dermoscopic               False  female                 NaN   \n",
      "4       450  dermoscopic               False    male      anterior torso   \n",
      "\n",
      "  benign_malignant diagnosis_1            diagnosis_confirm_type  age_approx  \\\n",
      "0           benign      Benign  serial imaging showing no change        50.0   \n",
      "1           benign      Benign  serial imaging showing no change        65.0   \n",
      "2           benign      Benign  serial imaging showing no change        45.0   \n",
      "3           benign      Benign  serial imaging showing no change        55.0   \n",
      "4           benign      Benign  serial imaging showing no change        45.0   \n",
      "\n",
      "    lesion_id  patient_id  \n",
      "0  IL_3752689  IP_8330575  \n",
      "1  IL_2374200  IP_8051701  \n",
      "2  IL_1790311  IP_5889408  \n",
      "3  IL_1497139         NaN  \n",
      "4  IL_0372697         NaN  \n"
     ]
    }
   ],
   "source": [
    "df_metadata = pd.read_csv(metadata_path)\n",
    "print(df_metadata.head()) "
   ]
  },
  {
   "cell_type": "code",
   "execution_count": 9,
   "metadata": {},
   "outputs": [
    {
     "name": "stdout",
     "output_type": "stream",
     "text": [
      "<class 'pandas.core.frame.DataFrame'>\n",
      "RangeIndex: 44164 entries, 0 to 44163\n",
      "Data columns (total 18 columns):\n",
      " #   Column                  Non-Null Count  Dtype  \n",
      "---  ------                  --------------  -----  \n",
      " 0   isic_id                 44164 non-null  object \n",
      " 1   copyright_licence       44164 non-null  object \n",
      " 2   full_url                44164 non-null  object \n",
      " 3   full_size               44164 non-null  int64  \n",
      " 4   256_url                 44164 non-null  object \n",
      " 5   256_size                44164 non-null  int64  \n",
      " 6   pixels_x                44164 non-null  int64  \n",
      " 7   pixels_y                44164 non-null  int64  \n",
      " 8   image_type              44163 non-null  object \n",
      " 9   concomitant_biopsy      44164 non-null  bool   \n",
      " 10  sex                     43200 non-null  object \n",
      " 11  anatom_site_general     39085 non-null  object \n",
      " 12  benign_malignant        44164 non-null  object \n",
      " 13  diagnosis_1             44158 non-null  object \n",
      " 14  diagnosis_confirm_type  43036 non-null  object \n",
      " 15  age_approx              43099 non-null  float64\n",
      " 16  lesion_id               39085 non-null  object \n",
      " 17  patient_id              28370 non-null  object \n",
      "dtypes: bool(1), float64(1), int64(4), object(12)\n",
      "memory usage: 5.8+ MB\n",
      "None\n"
     ]
    }
   ],
   "source": [
    "# Display column information\n",
    "print(df_metadata.info())"
   ]
  },
  {
   "cell_type": "code",
   "execution_count": 10,
   "metadata": {},
   "outputs": [
    {
     "name": "stdout",
     "output_type": "stream",
     "text": [
      "Remaining columns after dropping:\n",
      "['isic_id', 'pixels_x', 'pixels_y', 'image_type', 'concomitant_biopsy', 'sex', 'anatom_site_general', 'benign_malignant', 'diagnosis_1', 'diagnosis_confirm_type', 'age_approx', 'lesion_id', 'patient_id']\n"
     ]
    }
   ],
   "source": [
    "columns_to_drop = [\"copyright_licence\", \"full_url\", \"full_size\", \"256_url\", \"256_size\"]\n",
    "\n",
    "df_metadata = df_metadata.drop(columns=columns_to_drop)\n",
    "\n",
    "print(\"Remaining columns after dropping:\")\n",
    "print(df_metadata.columns.tolist())  # Check remaining columns"
   ]
  },
  {
   "cell_type": "code",
   "execution_count": 18,
   "metadata": {},
   "outputs": [
    {
     "name": "stdout",
     "output_type": "stream",
     "text": [
      "lesion_id\n",
      "IL_5161836    23\n",
      "IL_8314504    17\n",
      "IL_7455346    17\n",
      "IL_1405273    16\n",
      "IL_3161017    16\n",
      "              ..\n",
      "IL_2768480     1\n",
      "IL_0854286     1\n",
      "IL_7083858     1\n",
      "IL_1262694     1\n",
      "IL_3173468     1\n",
      "Name: count, Length: 33319, dtype: int64\n"
     ]
    }
   ],
   "source": [
    "lesion_counts = df_metadata[\"lesion_id\"].value_counts()\n",
    "\n",
    "print(lesion_counts)"
   ]
  },
  {
   "cell_type": "code",
   "execution_count": 19,
   "metadata": {},
   "outputs": [
    {
     "name": "stdout",
     "output_type": "stream",
     "text": [
      "Total unique lesion IDs: 33320\n",
      "Sample unique lesion IDs: ['IL_3752689' 'IL_2374200' 'IL_1790311' ... 'IL_7083858' 'IL_1262694'\n",
      " 'IL_1633213']\n"
     ]
    }
   ],
   "source": [
    "# Display unique values in 'lesion_id'\n",
    "unique_lesions = df_metadata[\"lesion_id\"].unique()\n",
    "\n",
    "print(f\"Total unique lesion IDs: {len(unique_lesions)}\")\n",
    "print(\"Sample unique lesion IDs:\", unique_lesions)  # Show first 10 unique values\n"
   ]
  }
 ],
 "metadata": {
  "kernelspec": {
   "display_name": ".venv",
   "language": "python",
   "name": "python3"
  },
  "language_info": {
   "codemirror_mode": {
    "name": "ipython",
    "version": 3
   },
   "file_extension": ".py",
   "mimetype": "text/x-python",
   "name": "python",
   "nbconvert_exporter": "python",
   "pygments_lexer": "ipython3",
   "version": "3.12.4"
  }
 },
 "nbformat": 4,
 "nbformat_minor": 2
}
