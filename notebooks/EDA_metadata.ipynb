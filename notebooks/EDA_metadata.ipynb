{
 "cells": [
  {
   "cell_type": "code",
   "execution_count": 122,
   "metadata": {},
   "outputs": [],
   "source": [
    "import pandas as pd\n",
    "\n",
    "# ✅ Load metadata.csv\n",
    "metadata_path = r\"D:\\Desktop\\dermproject\\data\\metadata.csv\"\n",
    "df_metadata = pd.read_csv(metadata_path)"
   ]
  },
  {
   "cell_type": "code",
   "execution_count": 123,
   "metadata": {},
   "outputs": [
    {
     "name": "stdout",
     "output_type": "stream",
     "text": [
      "🔹 First 5 rows:\n",
      "        isic_id copyright_licence  \\\n",
      "0  ISIC_1064919          CC-BY-NC   \n",
      "1  ISIC_2708737             CC-BY   \n",
      "2  ISIC_1944865             CC-BY   \n",
      "3  ISIC_0032083          CC-BY-NC   \n",
      "4  ISIC_0028959          CC-BY-NC   \n",
      "\n",
      "                                            full_url  full_size  \\\n",
      "0  https://content.isic-archive.com/e11a451e-56d3...     153259   \n",
      "1  https://content.isic-archive.com/7fd26d90-cbbd...    1690118   \n",
      "2  https://content.isic-archive.com/d74f790a-4fdd...    1141325   \n",
      "3  https://content.isic-archive.com/bd3a61e1-10b8...      19579   \n",
      "4  https://content.isic-archive.com/7b8adcca-2e9f...      26583   \n",
      "\n",
      "                                             256_url  256_size  pixels_x  \\\n",
      "0  https://content.isic-archive.com/eed95197-f4fc...      3302      1872   \n",
      "1  https://content.isic-archive.com/d0ea6212-39f0...      5031      6000   \n",
      "2  https://content.isic-archive.com/2bfbd1eb-6bca...      3271      6000   \n",
      "3  https://content.isic-archive.com/e0531cf3-420a...      3862       600   \n",
      "4  https://content.isic-archive.com/787e7f62-20b8...      6426       600   \n",
      "\n",
      "   pixels_y   image_type  concomitant_biopsy     sex anatom_site_general  \\\n",
      "0      1053  dermoscopic               False    male     lower extremity   \n",
      "1      4000  dermoscopic               False  female     posterior torso   \n",
      "2      4000  dermoscopic               False  female     lower extremity   \n",
      "3       450  dermoscopic               False  female                 NaN   \n",
      "4       450  dermoscopic               False    male      anterior torso   \n",
      "\n",
      "  benign_malignant diagnosis_1            diagnosis_confirm_type  age_approx  \\\n",
      "0           benign      Benign  serial imaging showing no change        50.0   \n",
      "1           benign      Benign  serial imaging showing no change        65.0   \n",
      "2           benign      Benign  serial imaging showing no change        45.0   \n",
      "3           benign      Benign  serial imaging showing no change        55.0   \n",
      "4           benign      Benign  serial imaging showing no change        45.0   \n",
      "\n",
      "    lesion_id  patient_id  \n",
      "0  IL_3752689  IP_8330575  \n",
      "1  IL_2374200  IP_8051701  \n",
      "2  IL_1790311  IP_5889408  \n",
      "3  IL_1497139         NaN  \n",
      "4  IL_0372697         NaN  \n"
     ]
    }
   ],
   "source": [
    "# ✅ Display basic information\n",
    "print(\"🔹 First 5 rows:\")\n",
    "print(df_metadata.head())"
   ]
  },
  {
   "cell_type": "code",
   "execution_count": 124,
   "metadata": {},
   "outputs": [
    {
     "name": "stdout",
     "output_type": "stream",
     "text": [
      "\n",
      "🔹 Dataset Info:\n",
      "<class 'pandas.core.frame.DataFrame'>\n",
      "RangeIndex: 44164 entries, 0 to 44163\n",
      "Data columns (total 18 columns):\n",
      " #   Column                  Non-Null Count  Dtype  \n",
      "---  ------                  --------------  -----  \n",
      " 0   isic_id                 44164 non-null  object \n",
      " 1   copyright_licence       44164 non-null  object \n",
      " 2   full_url                44164 non-null  object \n",
      " 3   full_size               44164 non-null  int64  \n",
      " 4   256_url                 44164 non-null  object \n",
      " 5   256_size                44164 non-null  int64  \n",
      " 6   pixels_x                44164 non-null  int64  \n",
      " 7   pixels_y                44164 non-null  int64  \n",
      " 8   image_type              44163 non-null  object \n",
      " 9   concomitant_biopsy      44164 non-null  bool   \n",
      " 10  sex                     43200 non-null  object \n",
      " 11  anatom_site_general     39085 non-null  object \n",
      " 12  benign_malignant        44164 non-null  object \n",
      " 13  diagnosis_1             44158 non-null  object \n",
      " 14  diagnosis_confirm_type  43036 non-null  object \n",
      " 15  age_approx              43099 non-null  float64\n",
      " 16  lesion_id               39085 non-null  object \n",
      " 17  patient_id              28370 non-null  object \n",
      "dtypes: bool(1), float64(1), int64(4), object(12)\n",
      "memory usage: 5.8+ MB\n",
      "None\n"
     ]
    }
   ],
   "source": [
    "print(\"\\n🔹 Dataset Info:\")\n",
    "print(df_metadata.info())"
   ]
  },
  {
   "cell_type": "code",
   "execution_count": 125,
   "metadata": {},
   "outputs": [
    {
     "name": "stdout",
     "output_type": "stream",
     "text": [
      "\n",
      "🔹 Summary Statistics:\n",
      "          full_size      256_size      pixels_x      pixels_y    age_approx\n",
      "count  4.416400e+04  44164.000000  44164.000000  44164.000000  43099.000000\n",
      "mean   5.041214e+05   5128.600987   2843.014061   1968.966466     50.471589\n",
      "std    6.003082e+05   1886.746409   2206.505356   1453.506013     16.047316\n",
      "min    1.605000e+03   1271.000000     85.000000     85.000000      0.000000\n",
      "25%    3.662875e+04   3749.000000    640.000000    480.000000     40.000000\n",
      "50%    1.534655e+05   4813.000000   1872.000000   1053.000000     50.000000\n",
      "75%    9.526255e+05   6074.250000   5184.000000   4000.000000     60.000000\n",
      "max    4.232756e+06  20848.000000   7360.000000   6000.000000     85.000000\n"
     ]
    }
   ],
   "source": [
    "print(\"\\n🔹 Summary Statistics:\")\n",
    "print(df_metadata.describe())"
   ]
  },
  {
   "cell_type": "code",
   "execution_count": 126,
   "metadata": {},
   "outputs": [
    {
     "name": "stdout",
     "output_type": "stream",
     "text": [
      "\n",
      "🔹 Missing Values:\n",
      "isic_id                       0\n",
      "copyright_licence             0\n",
      "full_url                      0\n",
      "full_size                     0\n",
      "256_url                       0\n",
      "256_size                      0\n",
      "pixels_x                      0\n",
      "pixels_y                      0\n",
      "image_type                    1\n",
      "concomitant_biopsy            0\n",
      "sex                         964\n",
      "anatom_site_general        5079\n",
      "benign_malignant              0\n",
      "diagnosis_1                   6\n",
      "diagnosis_confirm_type     1128\n",
      "age_approx                 1065\n",
      "lesion_id                  5079\n",
      "patient_id                15794\n",
      "dtype: int64\n"
     ]
    }
   ],
   "source": [
    "print(\"\\n🔹 Missing Values:\")\n",
    "print(df_metadata.isnull().sum())"
   ]
  },
  {
   "cell_type": "code",
   "execution_count": 127,
   "metadata": {},
   "outputs": [
    {
     "name": "stdout",
     "output_type": "stream",
     "text": [
      "\n",
      "🔹 Number of Duplicates: 0\n"
     ]
    }
   ],
   "source": [
    "print(\"\\n🔹 Number of Duplicates:\", df_metadata.duplicated().sum())"
   ]
  },
  {
   "cell_type": "code",
   "execution_count": 128,
   "metadata": {},
   "outputs": [
    {
     "name": "stdout",
     "output_type": "stream",
     "text": [
      "\n",
      "🔹 Unique values in lesion_id:\n",
      "['IL_3752689' 'IL_2374200' 'IL_1790311' ... 'IL_7083858' 'IL_1262694'\n",
      " 'IL_1633213']\n",
      "\n",
      "🔹 Unique values in diagnosis_confirm_type:\n",
      "['serial imaging showing no change' 'histopathology'\n",
      " 'single image expert consensus' nan\n",
      " 'confocal microscopy with consensus dermoscopy']\n",
      "\n",
      "🔹 Unique values in diagnosis_1:\n",
      "['Benign' 'Malignant' 'Indeterminate' nan]\n",
      "\n",
      "🔹 Unique values in benign_malignant:\n",
      "['benign' 'malignant']\n",
      "\n",
      "🔹 Unique values in anatom_site_general:\n",
      "['lower extremity' 'posterior torso' nan 'anterior torso' 'palms/soles'\n",
      " 'upper extremity' 'head/neck' 'lateral torso' 'oral/genital']\n",
      "\n",
      "🔹 Unique values in sex:\n",
      "['male' 'female' nan]\n"
     ]
    }
   ],
   "source": [
    "categorical_cols = [\"lesion_id\", \"diagnosis_confirm_type\", \"diagnosis_1\", \"benign_malignant\",\"anatom_site_general\", \"sex\" ]  # Replace with actual categorical columns\n",
    "for col in categorical_cols:\n",
    "    print(f\"\\n🔹 Unique values in {col}:\")\n",
    "    print(df_metadata[col].unique())\n"
   ]
  },
  {
   "cell_type": "markdown",
   "metadata": {},
   "source": [
    "Analyzing lesion_id\n"
   ]
  },
  {
   "cell_type": "code",
   "execution_count": 129,
   "metadata": {},
   "outputs": [
    {
     "name": "stdout",
     "output_type": "stream",
     "text": [
      "\n",
      "🔹 Number of Unique Lesion IDs: 33319\n",
      "\n",
      "🔹 Unique Lesion IDs:\n",
      "['IL_3752689' 'IL_2374200' 'IL_1790311' 'IL_1497139' 'IL_0372697' nan\n",
      " 'IL_8532886' 'IL_3171860' 'IL_0794061' 'IL_4212775']\n"
     ]
    }
   ],
   "source": [
    "print(\"\\n🔹 Number of Unique Lesion IDs:\", df_metadata[\"lesion_id\"].nunique())\n",
    "print(\"\\n🔹 Unique Lesion IDs:\")\n",
    "print(df_metadata[\"lesion_id\"].unique()[:10])  # Show first 10 unique values\n"
   ]
  },
  {
   "cell_type": "code",
   "execution_count": 130,
   "metadata": {},
   "outputs": [
    {
     "name": "stdout",
     "output_type": "stream",
     "text": [
      "\n",
      "🔹 Lesion Frequency Distribution:\n",
      "lesion_id\n",
      "IL_5161836    23\n",
      "IL_8314504    17\n",
      "IL_7455346    17\n",
      "IL_1405273    16\n",
      "IL_3161017    16\n",
      "IL_5560174    15\n",
      "IL_5605169    15\n",
      "IL_9808031    14\n",
      "IL_2952301    14\n",
      "IL_8811658    14\n",
      "Name: count, dtype: int64\n"
     ]
    }
   ],
   "source": [
    "lesion_counts = df_metadata[\"lesion_id\"].value_counts()\n",
    "print(\"\\n🔹 Lesion Frequency Distribution:\")\n",
    "print(lesion_counts.head(10))  # Show the top 10 most common lesion IDs\n"
   ]
  },
  {
   "cell_type": "markdown",
   "metadata": {},
   "source": [
    "Analyzing diagnosis_1"
   ]
  },
  {
   "cell_type": "code",
   "execution_count": 131,
   "metadata": {},
   "outputs": [
    {
     "name": "stdout",
     "output_type": "stream",
     "text": [
      "\n",
      "🔹 Number of Unique diagnosis_1: 3\n",
      "\n",
      "🔹 Unique diagnosis_1:\n",
      "['Benign' 'Malignant' 'Indeterminate' nan]\n"
     ]
    }
   ],
   "source": [
    "print(\"\\n🔹 Number of Unique diagnosis_1:\", df_metadata[\"diagnosis_1\"].nunique())\n",
    "print(\"\\n🔹 Unique diagnosis_1:\")\n",
    "print(df_metadata[\"diagnosis_1\"].unique()[:10])  # Show first 10 unique values"
   ]
  },
  {
   "cell_type": "code",
   "execution_count": 132,
   "metadata": {},
   "outputs": [
    {
     "name": "stdout",
     "output_type": "stream",
     "text": [
      "\n",
      "🔹 Number of Missing Values in `diagnosis_1` Column:\n",
      "6\n"
     ]
    }
   ],
   "source": [
    "print(\"\\n🔹 Number of Missing Values in `diagnosis_1` Column:\")\n",
    "print(df_metadata[\"diagnosis_1\"].isnull().sum())\n"
   ]
  },
  {
   "cell_type": "code",
   "execution_count": 133,
   "metadata": {},
   "outputs": [
    {
     "name": "stdout",
     "output_type": "stream",
     "text": [
      "\n",
      "🔹 Diagnosis Counts:\n",
      "diagnosis_1\n",
      "Benign           36370\n",
      "Malignant         7450\n",
      "Indeterminate      338\n",
      "Name: count, dtype: int64\n"
     ]
    }
   ],
   "source": [
    "print(\"\\n🔹 Diagnosis Counts:\")\n",
    "print(df_metadata[\"diagnosis_1\"].value_counts())\n"
   ]
  },
  {
   "cell_type": "markdown",
   "metadata": {},
   "source": [
    "Analyzing diagnosis_confirm_type"
   ]
  },
  {
   "cell_type": "code",
   "execution_count": 134,
   "metadata": {},
   "outputs": [
    {
     "name": "stdout",
     "output_type": "stream",
     "text": [
      "\n",
      "🔹 Number of Unique diagnosis_confirm_type: 4\n",
      "\n",
      "🔹 Unique diagnosis_confirm_type:\n",
      "['serial imaging showing no change' 'histopathology'\n",
      " 'single image expert consensus' nan\n",
      " 'confocal microscopy with consensus dermoscopy']\n"
     ]
    }
   ],
   "source": [
    "print(\"\\n🔹 Number of Unique diagnosis_confirm_type:\", df_metadata[\"diagnosis_confirm_type\"].nunique())\n",
    "print(\"\\n🔹 Unique diagnosis_confirm_type:\")\n",
    "print(df_metadata[\"diagnosis_confirm_type\"].unique()[:10])  # Show first 10 unique values"
   ]
  },
  {
   "cell_type": "code",
   "execution_count": 135,
   "metadata": {},
   "outputs": [
    {
     "name": "stdout",
     "output_type": "stream",
     "text": [
      "\n",
      "🔹 Number of Missing Values in `diagnosis_confirm_type` Column:\n",
      "1128\n"
     ]
    }
   ],
   "source": [
    "print(\"\\n🔹 Number of Missing Values in `diagnosis_confirm_type` Column:\")\n",
    "print(df_metadata[\"diagnosis_confirm_type\"].isnull().sum())"
   ]
  },
  {
   "cell_type": "code",
   "execution_count": 136,
   "metadata": {},
   "outputs": [
    {
     "name": "stdout",
     "output_type": "stream",
     "text": [
      "\n",
      "🔹 Diagnosis Counts:\n",
      "diagnosis_confirm_type\n",
      "serial imaging showing no change                 19132\n",
      "histopathology                                   15876\n",
      "single image expert consensus                     7674\n",
      "confocal microscopy with consensus dermoscopy      354\n",
      "Name: count, dtype: int64\n"
     ]
    }
   ],
   "source": [
    "print(\"\\n🔹 Diagnosis Counts:\")\n",
    "print(df_metadata[\"diagnosis_confirm_type\"].value_counts())"
   ]
  },
  {
   "cell_type": "markdown",
   "metadata": {},
   "source": [
    "Dropping columns"
   ]
  },
  {
   "cell_type": "code",
   "execution_count": 137,
   "metadata": {},
   "outputs": [
    {
     "name": "stdout",
     "output_type": "stream",
     "text": [
      "\n",
      "✅ Updated DataFrame after dropping columns:\n",
      "        isic_id     sex anatom_site_general benign_malignant  age_approx\n",
      "0  ISIC_1064919    male     lower extremity           benign        50.0\n",
      "1  ISIC_2708737  female     posterior torso           benign        65.0\n",
      "2  ISIC_1944865  female     lower extremity           benign        45.0\n",
      "3  ISIC_0032083  female                 NaN           benign        55.0\n",
      "4  ISIC_0028959    male      anterior torso           benign        45.0\n"
     ]
    }
   ],
   "source": [
    "# ✅ Specify the columns to drop\n",
    "columns_to_drop = ['copyright_licence', 'full_url', 'full_size', '256_url',\n",
    "       '256_size', 'pixels_x', 'pixels_y', 'image_type', 'concomitant_biopsy', 'lesion_id', 'patient_id', 'diagnosis_1', 'diagnosis_confirm_type']  # Replace with actual column names\n",
    "\n",
    "# ✅ Drop columns\n",
    "df_metadata = df_metadata.drop(columns=columns_to_drop, axis=1)\n",
    "\n",
    "print(\"\\n✅ Updated DataFrame after dropping columns:\")\n",
    "print(df_metadata.head())"
   ]
  },
  {
   "cell_type": "code",
   "execution_count": 138,
   "metadata": {},
   "outputs": [
    {
     "name": "stdout",
     "output_type": "stream",
     "text": [
      "\n",
      "🔹 Missing Values in Each Column:\n",
      "isic_id                   0\n",
      "sex                     964\n",
      "anatom_site_general    5079\n",
      "benign_malignant          0\n",
      "age_approx             1065\n",
      "dtype: int64\n"
     ]
    }
   ],
   "source": [
    "print(\"\\n🔹 Missing Values in Each Column:\")\n",
    "print(df_metadata.isnull().sum())"
   ]
  },
  {
   "cell_type": "markdown",
   "metadata": {},
   "source": [
    "Handling missing values"
   ]
  },
  {
   "cell_type": "code",
   "execution_count": 139,
   "metadata": {},
   "outputs": [
    {
     "name": "stdout",
     "output_type": "stream",
     "text": [
      "\n",
      "🔹 Missing Values After Processing:\n",
      "isic_id                0\n",
      "sex                    0\n",
      "anatom_site_general    0\n",
      "benign_malignant       0\n",
      "age_approx             0\n",
      "dtype: int64\n"
     ]
    }
   ],
   "source": [
    "df_metadata[\"age_approx\"] = df_metadata[\"age_approx\"].fillna(df_metadata[\"age_approx\"].median())\n",
    "df_metadata[\"sex\"] = df_metadata[\"sex\"].fillna(\"unknown\")\n",
    "df_metadata[\"anatom_site_general\"] = df_metadata[\"anatom_site_general\"].fillna(\"unknown\")\n",
    "\n",
    "# ✅ Verify no missing values remain\n",
    "print(\"\\n🔹 Missing Values After Processing:\")\n",
    "print(df_metadata.isnull().sum())"
   ]
  },
  {
   "cell_type": "markdown",
   "metadata": {},
   "source": [
    "Correlation analysis"
   ]
  },
  {
   "cell_type": "code",
   "execution_count": 140,
   "metadata": {},
   "outputs": [],
   "source": [
    "df_metadata[\"sex\"] = df_metadata[\"sex\"].map({\"male\": 0, \"female\": 1, \"unknown\": -1})"
   ]
  },
  {
   "cell_type": "code",
   "execution_count": 141,
   "metadata": {},
   "outputs": [],
   "source": [
    "df_metadata[\"benign_malignant\"] = df_metadata[\"benign_malignant\"].map({\"benign\": 0, \"malignant\": 1})"
   ]
  },
  {
   "cell_type": "code",
   "execution_count": 142,
   "metadata": {},
   "outputs": [
    {
     "name": "stdout",
     "output_type": "stream",
     "text": [
      "\n",
      "🔹 Correlation Matrix:\n",
      "                  age_approx       sex  benign_malignant\n",
      "age_approx          1.000000 -0.126201          0.323554\n",
      "sex                -0.126201  1.000000         -0.081973\n",
      "benign_malignant    0.323554 -0.081973          1.000000\n"
     ]
    }
   ],
   "source": [
    "correlation_matrix = df_metadata[[\"age_approx\", \"sex\", \"benign_malignant\"]].corr()\n",
    "print(\"\\n🔹 Correlation Matrix:\")\n",
    "print(correlation_matrix)\n",
    "\n"
   ]
  },
  {
   "cell_type": "code",
   "execution_count": 143,
   "metadata": {},
   "outputs": [
    {
     "name": "stdout",
     "output_type": "stream",
     "text": [
      "\n",
      "🔹 Unique Values in `anatom_site_general` Column:\n",
      "['lower extremity' 'posterior torso' 'unknown' 'anterior torso'\n",
      " 'palms/soles' 'upper extremity' 'head/neck' 'lateral torso'\n",
      " 'oral/genital']\n"
     ]
    }
   ],
   "source": [
    "print(\"\\n🔹 Unique Values in `anatom_site_general` Column:\")\n",
    "print(df_metadata[\"anatom_site_general\"].unique())\n"
   ]
  },
  {
   "cell_type": "code",
   "execution_count": 146,
   "metadata": {},
   "outputs": [],
   "source": [
    "df_metadata[\"anatom_site_general\"] = df_metadata[\"anatom_site_general\"].astype(\"category\").cat.codes\n"
   ]
  },
  {
   "cell_type": "code",
   "execution_count": 147,
   "metadata": {},
   "outputs": [
    {
     "data": {
      "text/html": [
       "<div>\n",
       "<style scoped>\n",
       "    .dataframe tbody tr th:only-of-type {\n",
       "        vertical-align: middle;\n",
       "    }\n",
       "\n",
       "    .dataframe tbody tr th {\n",
       "        vertical-align: top;\n",
       "    }\n",
       "\n",
       "    .dataframe thead th {\n",
       "        text-align: right;\n",
       "    }\n",
       "</style>\n",
       "<table border=\"1\" class=\"dataframe\">\n",
       "  <thead>\n",
       "    <tr style=\"text-align: right;\">\n",
       "      <th></th>\n",
       "      <th>isic_id</th>\n",
       "      <th>sex</th>\n",
       "      <th>anatom_site_general</th>\n",
       "      <th>benign_malignant</th>\n",
       "      <th>age_approx</th>\n",
       "    </tr>\n",
       "  </thead>\n",
       "  <tbody>\n",
       "    <tr>\n",
       "      <th>0</th>\n",
       "      <td>ISIC_1064919</td>\n",
       "      <td>0</td>\n",
       "      <td>3</td>\n",
       "      <td>0</td>\n",
       "      <td>50.0</td>\n",
       "    </tr>\n",
       "    <tr>\n",
       "      <th>1</th>\n",
       "      <td>ISIC_2708737</td>\n",
       "      <td>1</td>\n",
       "      <td>6</td>\n",
       "      <td>0</td>\n",
       "      <td>65.0</td>\n",
       "    </tr>\n",
       "    <tr>\n",
       "      <th>2</th>\n",
       "      <td>ISIC_1944865</td>\n",
       "      <td>1</td>\n",
       "      <td>3</td>\n",
       "      <td>0</td>\n",
       "      <td>45.0</td>\n",
       "    </tr>\n",
       "    <tr>\n",
       "      <th>3</th>\n",
       "      <td>ISIC_0032083</td>\n",
       "      <td>1</td>\n",
       "      <td>7</td>\n",
       "      <td>0</td>\n",
       "      <td>55.0</td>\n",
       "    </tr>\n",
       "    <tr>\n",
       "      <th>4</th>\n",
       "      <td>ISIC_0028959</td>\n",
       "      <td>0</td>\n",
       "      <td>0</td>\n",
       "      <td>0</td>\n",
       "      <td>45.0</td>\n",
       "    </tr>\n",
       "  </tbody>\n",
       "</table>\n",
       "</div>"
      ],
      "text/plain": [
       "        isic_id  sex  anatom_site_general  benign_malignant  age_approx\n",
       "0  ISIC_1064919    0                    3                 0        50.0\n",
       "1  ISIC_2708737    1                    6                 0        65.0\n",
       "2  ISIC_1944865    1                    3                 0        45.0\n",
       "3  ISIC_0032083    1                    7                 0        55.0\n",
       "4  ISIC_0028959    0                    0                 0        45.0"
      ]
     },
     "execution_count": 147,
     "metadata": {},
     "output_type": "execute_result"
    }
   ],
   "source": [
    "df_metadata.head()\n"
   ]
  },
  {
   "cell_type": "code",
   "execution_count": 149,
   "metadata": {},
   "outputs": [
    {
     "name": "stdout",
     "output_type": "stream",
     "text": [
      "\n",
      "🔹 Correlation Between Anatomical Site and Benign/Malignant:\n",
      "benign_malignant       1.000000\n",
      "age_approx             0.323554\n",
      "anatom_site_general   -0.058494\n",
      "sex                   -0.081973\n",
      "Name: benign_malignant, dtype: float64\n"
     ]
    }
   ],
   "source": [
    "correlation_matrix = df_metadata.drop(columns=[\"isic_id\"]).corr()\n",
    "print(\"\\n🔹 Correlation Between Anatomical Site and Benign/Malignant:\")\n",
    "print(correlation_matrix[\"benign_malignant\"].sort_values(ascending=False))\n"
   ]
  },
  {
   "cell_type": "code",
   "execution_count": 150,
   "metadata": {},
   "outputs": [
    {
     "data": {
      "image/png": "[encoded data removed]",
      "text/plain": [
       "<Figure size 800x500 with 1 Axes>"
      ]
     },
     "metadata": {},
     "output_type": "display_data"
    }
   ],
   "source": [
    "import seaborn as sns\n",
    "import matplotlib.pyplot as plt\n",
    "\n",
    "plt.figure(figsize=(8, 5))\n",
    "sns.boxplot(x=df_metadata[\"benign_malignant\"], y=df_metadata[\"age_approx\"])\n",
    "plt.xticks([0, 1], [\"Benign\", \"Malignant\"])\n",
    "plt.xlabel(\"Diagnosis\")\n",
    "plt.ylabel(\"Approximate Age\")\n",
    "plt.title(\"Age Distribution by Benign/Malignant Diagnosis\")\n",
    "plt.show()\n"
   ]
  },
  {
   "cell_type": "code",
   "execution_count": 151,
   "metadata": {},
   "outputs": [
    {
     "data": {
      "image/png": "[encoded data removed]",
      "text/plain": [
       "<Figure size 1000x500 with 1 Axes>"
      ]
     },
     "metadata": {},
     "output_type": "display_data"
    }
   ],
   "source": [
    "plt.figure(figsize=(10, 5))\n",
    "sns.countplot(y=df_metadata[\"anatom_site_general\"], hue=df_metadata[\"benign_malignant\"])\n",
    "plt.title(\"Distribution of Benign & Malignant Cases by Anatomical Site\")\n",
    "plt.xlabel(\"Count\")\n",
    "plt.ylabel(\"Anatomical Site\")\n",
    "plt.legend([\"Benign\", \"Malignant\"])\n",
    "plt.show()\n"
   ]
  },
  {
   "cell_type": "code",
   "execution_count": null,
   "metadata": {},
   "outputs": [],
   "source": []
  },
  {
   "cell_type": "code",
   "execution_count": 152,
   "metadata": {},
   "outputs": [
    {
     "data": {
      "image/png": "[encoded data removed]",
      "text/plain": [
       "<Figure size 600x400 with 1 Axes>"
      ]
     },
     "metadata": {},
     "output_type": "display_data"
    }
   ],
   "source": [
    "plt.figure(figsize=(6, 4))\n",
    "sns.countplot(x=df_metadata[\"sex\"], hue=df_metadata[\"benign_malignant\"])\n",
    "plt.xticks([0, 1], [\"Male\", \"Female\"])\n",
    "plt.xlabel(\"Sex\")\n",
    "plt.ylabel(\"Count\")\n",
    "plt.title(\"Benign vs. Malignant Cases by Sex\")\n",
    "plt.legend([\"Benign\", \"Malignant\"])\n",
    "plt.show()\n"
   ]
  },
  {
   "cell_type": "code",
   "execution_count": null,
   "metadata": {},
   "outputs": [
    {
     "data": {
      "image/png": "[encoded data removed]",
      "text/plain": [
       "<Figure size 800x500 with 1 Axes>"
      ]
     },
     "metadata": {},
     "output_type": "display_data"
    }
   ],
   "source": [
    "import matplotlib.pyplot as plt\n",
    "import seaborn as sns\n",
    "\n",
    "plt.figure(figsize=(8, 5))\n",
    "sns.histplot(df_metadata[\"age_approx\"], bins=20, kde=True)\n",
    "plt.xlabel(\"Age\")\n",
    "plt.title(\"Age Distribution\")\n",
    "plt.show()\n"
   ]
  },
  {
   "cell_type": "code",
   "execution_count": 88,
   "metadata": {},
   "outputs": [
    {
     "ename": "KeyError",
     "evalue": "'diagnosis_1'",
     "output_type": "error",
     "traceback": [
      "\u001b[1;31m---------------------------------------------------------------------------\u001b[0m",
      "\u001b[1;31mKeyError\u001b[0m                                  Traceback (most recent call last)",
      "File \u001b[1;32md:\\Desktop\\dermproject\\.venv\\Lib\\site-packages\\pandas\\core\\indexes\\base.py:3805\u001b[0m, in \u001b[0;36mIndex.get_loc\u001b[1;34m(self, key)\u001b[0m\n\u001b[0;32m   3804\u001b[0m \u001b[38;5;28;01mtry\u001b[39;00m:\n\u001b[1;32m-> 3805\u001b[0m     \u001b[38;5;28;01mreturn\u001b[39;00m \u001b[38;5;28;43mself\u001b[39;49m\u001b[38;5;241;43m.\u001b[39;49m\u001b[43m_engine\u001b[49m\u001b[38;5;241;43m.\u001b[39;49m\u001b[43mget_loc\u001b[49m\u001b[43m(\u001b[49m\u001b[43mcasted_key\u001b[49m\u001b[43m)\u001b[49m\n\u001b[0;32m   3806\u001b[0m \u001b[38;5;28;01mexcept\u001b[39;00m \u001b[38;5;167;01mKeyError\u001b[39;00m \u001b[38;5;28;01mas\u001b[39;00m err:\n",
      "File \u001b[1;32mindex.pyx:167\u001b[0m, in \u001b[0;36mpandas._libs.index.IndexEngine.get_loc\u001b[1;34m()\u001b[0m\n",
      "File \u001b[1;32mindex.pyx:196\u001b[0m, in \u001b[0;36mpandas._libs.index.IndexEngine.get_loc\u001b[1;34m()\u001b[0m\n",
      "File \u001b[1;32mpandas\\\\_libs\\\\hashtable_class_helper.pxi:7081\u001b[0m, in \u001b[0;36mpandas._libs.hashtable.PyObjectHashTable.get_item\u001b[1;34m()\u001b[0m\n",
      "File \u001b[1;32mpandas\\\\_libs\\\\hashtable_class_helper.pxi:7089\u001b[0m, in \u001b[0;36mpandas._libs.hashtable.PyObjectHashTable.get_item\u001b[1;34m()\u001b[0m\n",
      "\u001b[1;31mKeyError\u001b[0m: 'diagnosis_1'",
      "\nThe above exception was the direct cause of the following exception:\n",
      "\u001b[1;31mKeyError\u001b[0m                                  Traceback (most recent call last)",
      "Cell \u001b[1;32mIn[88], line 2\u001b[0m\n\u001b[0;32m      1\u001b[0m plt\u001b[38;5;241m.\u001b[39mfigure(figsize\u001b[38;5;241m=\u001b[39m(\u001b[38;5;241m8\u001b[39m, \u001b[38;5;241m5\u001b[39m))\n\u001b[1;32m----> 2\u001b[0m sns\u001b[38;5;241m.\u001b[39mcountplot(y\u001b[38;5;241m=\u001b[39m\u001b[43mdf_metadata\u001b[49m\u001b[43m[\u001b[49m\u001b[38;5;124;43m\"\u001b[39;49m\u001b[38;5;124;43mdiagnosis_1\u001b[39;49m\u001b[38;5;124;43m\"\u001b[39;49m\u001b[43m]\u001b[49m, order\u001b[38;5;241m=\u001b[39mdf_metadata[\u001b[38;5;124m\"\u001b[39m\u001b[38;5;124mdiagnosis_1\u001b[39m\u001b[38;5;124m\"\u001b[39m]\u001b[38;5;241m.\u001b[39mvalue_counts()\u001b[38;5;241m.\u001b[39mindex)\n\u001b[0;32m      3\u001b[0m plt\u001b[38;5;241m.\u001b[39mtitle(\u001b[38;5;124m\"\u001b[39m\u001b[38;5;124mDiagnosis Distribution\u001b[39m\u001b[38;5;124m\"\u001b[39m)\n\u001b[0;32m      4\u001b[0m plt\u001b[38;5;241m.\u001b[39mshow()\n",
      "File \u001b[1;32md:\\Desktop\\dermproject\\.venv\\Lib\\site-packages\\pandas\\core\\frame.py:4102\u001b[0m, in \u001b[0;36mDataFrame.__getitem__\u001b[1;34m(self, key)\u001b[0m\n\u001b[0;32m   4100\u001b[0m \u001b[38;5;28;01mif\u001b[39;00m \u001b[38;5;28mself\u001b[39m\u001b[38;5;241m.\u001b[39mcolumns\u001b[38;5;241m.\u001b[39mnlevels \u001b[38;5;241m>\u001b[39m \u001b[38;5;241m1\u001b[39m:\n\u001b[0;32m   4101\u001b[0m     \u001b[38;5;28;01mreturn\u001b[39;00m \u001b[38;5;28mself\u001b[39m\u001b[38;5;241m.\u001b[39m_getitem_multilevel(key)\n\u001b[1;32m-> 4102\u001b[0m indexer \u001b[38;5;241m=\u001b[39m \u001b[38;5;28;43mself\u001b[39;49m\u001b[38;5;241;43m.\u001b[39;49m\u001b[43mcolumns\u001b[49m\u001b[38;5;241;43m.\u001b[39;49m\u001b[43mget_loc\u001b[49m\u001b[43m(\u001b[49m\u001b[43mkey\u001b[49m\u001b[43m)\u001b[49m\n\u001b[0;32m   4103\u001b[0m \u001b[38;5;28;01mif\u001b[39;00m is_integer(indexer):\n\u001b[0;32m   4104\u001b[0m     indexer \u001b[38;5;241m=\u001b[39m [indexer]\n",
      "File \u001b[1;32md:\\Desktop\\dermproject\\.venv\\Lib\\site-packages\\pandas\\core\\indexes\\base.py:3812\u001b[0m, in \u001b[0;36mIndex.get_loc\u001b[1;34m(self, key)\u001b[0m\n\u001b[0;32m   3807\u001b[0m     \u001b[38;5;28;01mif\u001b[39;00m \u001b[38;5;28misinstance\u001b[39m(casted_key, \u001b[38;5;28mslice\u001b[39m) \u001b[38;5;129;01mor\u001b[39;00m (\n\u001b[0;32m   3808\u001b[0m         \u001b[38;5;28misinstance\u001b[39m(casted_key, abc\u001b[38;5;241m.\u001b[39mIterable)\n\u001b[0;32m   3809\u001b[0m         \u001b[38;5;129;01mand\u001b[39;00m \u001b[38;5;28many\u001b[39m(\u001b[38;5;28misinstance\u001b[39m(x, \u001b[38;5;28mslice\u001b[39m) \u001b[38;5;28;01mfor\u001b[39;00m x \u001b[38;5;129;01min\u001b[39;00m casted_key)\n\u001b[0;32m   3810\u001b[0m     ):\n\u001b[0;32m   3811\u001b[0m         \u001b[38;5;28;01mraise\u001b[39;00m InvalidIndexError(key)\n\u001b[1;32m-> 3812\u001b[0m     \u001b[38;5;28;01mraise\u001b[39;00m \u001b[38;5;167;01mKeyError\u001b[39;00m(key) \u001b[38;5;28;01mfrom\u001b[39;00m\u001b[38;5;250m \u001b[39m\u001b[38;5;21;01merr\u001b[39;00m\n\u001b[0;32m   3813\u001b[0m \u001b[38;5;28;01mexcept\u001b[39;00m \u001b[38;5;167;01mTypeError\u001b[39;00m:\n\u001b[0;32m   3814\u001b[0m     \u001b[38;5;66;03m# If we have a listlike key, _check_indexing_error will raise\u001b[39;00m\n\u001b[0;32m   3815\u001b[0m     \u001b[38;5;66;03m#  InvalidIndexError. Otherwise we fall through and re-raise\u001b[39;00m\n\u001b[0;32m   3816\u001b[0m     \u001b[38;5;66;03m#  the TypeError.\u001b[39;00m\n\u001b[0;32m   3817\u001b[0m     \u001b[38;5;28mself\u001b[39m\u001b[38;5;241m.\u001b[39m_check_indexing_error(key)\n",
      "\u001b[1;31mKeyError\u001b[0m: 'diagnosis_1'"
     ]
    },
    {
     "data": {
      "text/plain": [
       "<Figure size 800x500 with 0 Axes>"
      ]
     },
     "metadata": {},
     "output_type": "display_data"
    }
   ],
   "source": [
    "plt.figure(figsize=(8, 5))\n",
    "sns.countplot(y=df_metadata[\"diagnosis_1\"], order=df_metadata[\"diagnosis_1\"].value_counts().index)\n",
    "plt.title(\"Diagnosis Distribution\")\n",
    "plt.show()\n"
   ]
  },
  {
   "cell_type": "code",
   "execution_count": null,
   "metadata": {},
   "outputs": [
    {
     "data": {
      "image/png": "[encoded data removed]",
      "text/plain": [
       "<Figure size 800x500 with 1 Axes>"
      ]
     },
     "metadata": {},
     "output_type": "display_data"
    }
   ],
   "source": [
    "plt.figure(figsize=(8, 5))\n",
    "sns.countplot(y=df_metadata[\"benign_malignant\"], order=df_metadata[\"benign_malignant\"].value_counts().index)\n",
    "plt.title(\"Diagnosis Distribution\")\n",
    "plt.show()"
   ]
  },
  {
   "cell_type": "code",
   "execution_count": null,
   "metadata": {},
   "outputs": [],
   "source": []
  },
  {
   "cell_type": "code",
   "execution_count": null,
   "metadata": {},
   "outputs": [],
   "source": []
  },
  {
   "cell_type": "code",
   "execution_count": null,
   "metadata": {},
   "outputs": [],
   "source": []
  }
 ],
 "metadata": {
  "kernelspec": {
   "display_name": ".venv",
   "language": "python",
   "name": "python3"
  },
  "language_info": {
   "codemirror_mode": {
    "name": "ipython",
    "version": 3
   },
   "file_extension": ".py",
   "mimetype": "text/x-python",
   "name": "python",
   "nbconvert_exporter": "python",
   "pygments_lexer": "ipython3",
   "version": "3.12.7"
  }
 },
 "nbformat": 4,
 "nbformat_minor": 2
}
