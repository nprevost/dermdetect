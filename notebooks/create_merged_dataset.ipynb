{
 "cells": [
  {
   "cell_type": "code",
   "execution_count": 69,
   "metadata": {},
   "outputs": [],
   "source": [
    "import pandas as pd\n",
    "import re"
   ]
  },
  {
   "cell_type": "code",
   "execution_count": 70,
   "metadata": {},
   "outputs": [],
   "source": [
    "dataset_path = r\"C:\\Users\\Lian4ik\\Desktop\\derm_project\\data\\dataset.csv\"\n",
    "metadata_path = r\"C:\\Users\\Lian4ik\\Desktop\\derm_project\\data\\metadata.csv\""
   ]
  },
  {
   "cell_type": "code",
   "execution_count": 71,
   "metadata": {},
   "outputs": [],
   "source": [
    "dataset_df = pd.read_csv(dataset_path)\n",
    "metadata_df = pd.read_csv(metadata_path)"
   ]
  },
  {
   "cell_type": "code",
   "execution_count": 72,
   "metadata": {},
   "outputs": [],
   "source": [
    "# Extract the core ID from 'image_id' in dataset.csv\n",
    "dataset_df['core_id'] = dataset_df['image_id'].apply(lambda x: re.match(r\"ISIC_\\d+\", x).group())\n"
   ]
  },
  {
   "cell_type": "code",
   "execution_count": 73,
   "metadata": {},
   "outputs": [
    {
     "data": {
      "text/html": [
       "<div>\n",
       "<style scoped>\n",
       "    .dataframe tbody tr th:only-of-type {\n",
       "        vertical-align: middle;\n",
       "    }\n",
       "\n",
       "    .dataframe tbody tr th {\n",
       "        vertical-align: top;\n",
       "    }\n",
       "\n",
       "    .dataframe thead th {\n",
       "        text-align: right;\n",
       "    }\n",
       "</style>\n",
       "<table border=\"1\" class=\"dataframe\">\n",
       "  <thead>\n",
       "    <tr style=\"text-align: right;\">\n",
       "      <th></th>\n",
       "      <th>image_id</th>\n",
       "      <th>target</th>\n",
       "      <th>core_id</th>\n",
       "    </tr>\n",
       "  </thead>\n",
       "  <tbody>\n",
       "    <tr>\n",
       "      <th>0</th>\n",
       "      <td>ISIC_0015290_0.JPG</td>\n",
       "      <td>0</td>\n",
       "      <td>ISIC_0015290</td>\n",
       "    </tr>\n",
       "    <tr>\n",
       "      <th>1</th>\n",
       "      <td>ISIC_0015291_0.JPG</td>\n",
       "      <td>0</td>\n",
       "      <td>ISIC_0015291</td>\n",
       "    </tr>\n",
       "    <tr>\n",
       "      <th>2</th>\n",
       "      <td>ISIC_0015292_0.JPG</td>\n",
       "      <td>0</td>\n",
       "      <td>ISIC_0015292</td>\n",
       "    </tr>\n",
       "    <tr>\n",
       "      <th>3</th>\n",
       "      <td>ISIC_0015293_0.JPG</td>\n",
       "      <td>0</td>\n",
       "      <td>ISIC_0015293</td>\n",
       "    </tr>\n",
       "    <tr>\n",
       "      <th>4</th>\n",
       "      <td>ISIC_0015294_0.JPG</td>\n",
       "      <td>0</td>\n",
       "      <td>ISIC_0015294</td>\n",
       "    </tr>\n",
       "  </tbody>\n",
       "</table>\n",
       "</div>"
      ],
      "text/plain": [
       "             image_id  target       core_id\n",
       "0  ISIC_0015290_0.JPG       0  ISIC_0015290\n",
       "1  ISIC_0015291_0.JPG       0  ISIC_0015291\n",
       "2  ISIC_0015292_0.JPG       0  ISIC_0015292\n",
       "3  ISIC_0015293_0.JPG       0  ISIC_0015293\n",
       "4  ISIC_0015294_0.JPG       0  ISIC_0015294"
      ]
     },
     "execution_count": 73,
     "metadata": {},
     "output_type": "execute_result"
    }
   ],
   "source": [
    "dataset_df.head()"
   ]
  },
  {
   "cell_type": "code",
   "execution_count": 74,
   "metadata": {},
   "outputs": [],
   "source": [
    "# Rename 'isic_id' to 'core_id' in metadata.csv for merging\n",
    "metadata_df = metadata_df.rename(columns={'isic_id': 'core_id'})"
   ]
  },
  {
   "cell_type": "code",
   "execution_count": 75,
   "metadata": {},
   "outputs": [
    {
     "data": {
      "text/html": [
       "<div>\n",
       "<style scoped>\n",
       "    .dataframe tbody tr th:only-of-type {\n",
       "        vertical-align: middle;\n",
       "    }\n",
       "\n",
       "    .dataframe tbody tr th {\n",
       "        vertical-align: top;\n",
       "    }\n",
       "\n",
       "    .dataframe thead th {\n",
       "        text-align: right;\n",
       "    }\n",
       "</style>\n",
       "<table border=\"1\" class=\"dataframe\">\n",
       "  <thead>\n",
       "    <tr style=\"text-align: right;\">\n",
       "      <th></th>\n",
       "      <th>core_id</th>\n",
       "      <th>copyright_licence</th>\n",
       "      <th>full_url</th>\n",
       "      <th>full_size</th>\n",
       "      <th>256_url</th>\n",
       "      <th>256_size</th>\n",
       "      <th>pixels_x</th>\n",
       "      <th>pixels_y</th>\n",
       "      <th>image_type</th>\n",
       "      <th>concomitant_biopsy</th>\n",
       "      <th>sex</th>\n",
       "      <th>anatom_site_general</th>\n",
       "      <th>benign_malignant</th>\n",
       "      <th>diagnosis_1</th>\n",
       "      <th>diagnosis_confirm_type</th>\n",
       "      <th>age_approx</th>\n",
       "      <th>lesion_id</th>\n",
       "      <th>patient_id</th>\n",
       "    </tr>\n",
       "  </thead>\n",
       "  <tbody>\n",
       "    <tr>\n",
       "      <th>0</th>\n",
       "      <td>ISIC_1064919</td>\n",
       "      <td>CC-BY-NC</td>\n",
       "      <td>https://content.isic-archive.com/e11a451e-56d3...</td>\n",
       "      <td>153259</td>\n",
       "      <td>https://content.isic-archive.com/eed95197-f4fc...</td>\n",
       "      <td>3302</td>\n",
       "      <td>1872</td>\n",
       "      <td>1053</td>\n",
       "      <td>dermoscopic</td>\n",
       "      <td>False</td>\n",
       "      <td>male</td>\n",
       "      <td>lower extremity</td>\n",
       "      <td>benign</td>\n",
       "      <td>Benign</td>\n",
       "      <td>serial imaging showing no change</td>\n",
       "      <td>50.0</td>\n",
       "      <td>IL_3752689</td>\n",
       "      <td>IP_8330575</td>\n",
       "    </tr>\n",
       "    <tr>\n",
       "      <th>1</th>\n",
       "      <td>ISIC_2708737</td>\n",
       "      <td>CC-BY</td>\n",
       "      <td>https://content.isic-archive.com/7fd26d90-cbbd...</td>\n",
       "      <td>1690118</td>\n",
       "      <td>https://content.isic-archive.com/d0ea6212-39f0...</td>\n",
       "      <td>5031</td>\n",
       "      <td>6000</td>\n",
       "      <td>4000</td>\n",
       "      <td>dermoscopic</td>\n",
       "      <td>False</td>\n",
       "      <td>female</td>\n",
       "      <td>posterior torso</td>\n",
       "      <td>benign</td>\n",
       "      <td>Benign</td>\n",
       "      <td>serial imaging showing no change</td>\n",
       "      <td>65.0</td>\n",
       "      <td>IL_2374200</td>\n",
       "      <td>IP_8051701</td>\n",
       "    </tr>\n",
       "    <tr>\n",
       "      <th>2</th>\n",
       "      <td>ISIC_1944865</td>\n",
       "      <td>CC-BY</td>\n",
       "      <td>https://content.isic-archive.com/d74f790a-4fdd...</td>\n",
       "      <td>1141325</td>\n",
       "      <td>https://content.isic-archive.com/2bfbd1eb-6bca...</td>\n",
       "      <td>3271</td>\n",
       "      <td>6000</td>\n",
       "      <td>4000</td>\n",
       "      <td>dermoscopic</td>\n",
       "      <td>False</td>\n",
       "      <td>female</td>\n",
       "      <td>lower extremity</td>\n",
       "      <td>benign</td>\n",
       "      <td>Benign</td>\n",
       "      <td>serial imaging showing no change</td>\n",
       "      <td>45.0</td>\n",
       "      <td>IL_1790311</td>\n",
       "      <td>IP_5889408</td>\n",
       "    </tr>\n",
       "    <tr>\n",
       "      <th>3</th>\n",
       "      <td>ISIC_0032083</td>\n",
       "      <td>CC-BY-NC</td>\n",
       "      <td>https://content.isic-archive.com/bd3a61e1-10b8...</td>\n",
       "      <td>19579</td>\n",
       "      <td>https://content.isic-archive.com/e0531cf3-420a...</td>\n",
       "      <td>3862</td>\n",
       "      <td>600</td>\n",
       "      <td>450</td>\n",
       "      <td>dermoscopic</td>\n",
       "      <td>False</td>\n",
       "      <td>female</td>\n",
       "      <td>NaN</td>\n",
       "      <td>benign</td>\n",
       "      <td>Benign</td>\n",
       "      <td>serial imaging showing no change</td>\n",
       "      <td>55.0</td>\n",
       "      <td>IL_1497139</td>\n",
       "      <td>NaN</td>\n",
       "    </tr>\n",
       "    <tr>\n",
       "      <th>4</th>\n",
       "      <td>ISIC_0028959</td>\n",
       "      <td>CC-BY-NC</td>\n",
       "      <td>https://content.isic-archive.com/7b8adcca-2e9f...</td>\n",
       "      <td>26583</td>\n",
       "      <td>https://content.isic-archive.com/787e7f62-20b8...</td>\n",
       "      <td>6426</td>\n",
       "      <td>600</td>\n",
       "      <td>450</td>\n",
       "      <td>dermoscopic</td>\n",
       "      <td>False</td>\n",
       "      <td>male</td>\n",
       "      <td>anterior torso</td>\n",
       "      <td>benign</td>\n",
       "      <td>Benign</td>\n",
       "      <td>serial imaging showing no change</td>\n",
       "      <td>45.0</td>\n",
       "      <td>IL_0372697</td>\n",
       "      <td>NaN</td>\n",
       "    </tr>\n",
       "  </tbody>\n",
       "</table>\n",
       "</div>"
      ],
      "text/plain": [
       "        core_id copyright_licence  \\\n",
       "0  ISIC_1064919          CC-BY-NC   \n",
       "1  ISIC_2708737             CC-BY   \n",
       "2  ISIC_1944865             CC-BY   \n",
       "3  ISIC_0032083          CC-BY-NC   \n",
       "4  ISIC_0028959          CC-BY-NC   \n",
       "\n",
       "                                            full_url  full_size  \\\n",
       "0  https://content.isic-archive.com/e11a451e-56d3...     153259   \n",
       "1  https://content.isic-archive.com/7fd26d90-cbbd...    1690118   \n",
       "2  https://content.isic-archive.com/d74f790a-4fdd...    1141325   \n",
       "3  https://content.isic-archive.com/bd3a61e1-10b8...      19579   \n",
       "4  https://content.isic-archive.com/7b8adcca-2e9f...      26583   \n",
       "\n",
       "                                             256_url  256_size  pixels_x  \\\n",
       "0  https://content.isic-archive.com/eed95197-f4fc...      3302      1872   \n",
       "1  https://content.isic-archive.com/d0ea6212-39f0...      5031      6000   \n",
       "2  https://content.isic-archive.com/2bfbd1eb-6bca...      3271      6000   \n",
       "3  https://content.isic-archive.com/e0531cf3-420a...      3862       600   \n",
       "4  https://content.isic-archive.com/787e7f62-20b8...      6426       600   \n",
       "\n",
       "   pixels_y   image_type  concomitant_biopsy     sex anatom_site_general  \\\n",
       "0      1053  dermoscopic               False    male     lower extremity   \n",
       "1      4000  dermoscopic               False  female     posterior torso   \n",
       "2      4000  dermoscopic               False  female     lower extremity   \n",
       "3       450  dermoscopic               False  female                 NaN   \n",
       "4       450  dermoscopic               False    male      anterior torso   \n",
       "\n",
       "  benign_malignant diagnosis_1            diagnosis_confirm_type  age_approx  \\\n",
       "0           benign      Benign  serial imaging showing no change        50.0   \n",
       "1           benign      Benign  serial imaging showing no change        65.0   \n",
       "2           benign      Benign  serial imaging showing no change        45.0   \n",
       "3           benign      Benign  serial imaging showing no change        55.0   \n",
       "4           benign      Benign  serial imaging showing no change        45.0   \n",
       "\n",
       "    lesion_id  patient_id  \n",
       "0  IL_3752689  IP_8330575  \n",
       "1  IL_2374200  IP_8051701  \n",
       "2  IL_1790311  IP_5889408  \n",
       "3  IL_1497139         NaN  \n",
       "4  IL_0372697         NaN  "
      ]
     },
     "execution_count": 75,
     "metadata": {},
     "output_type": "execute_result"
    }
   ],
   "source": [
    "metadata_df.head()"
   ]
  },
  {
   "cell_type": "code",
   "execution_count": 76,
   "metadata": {},
   "outputs": [],
   "source": [
    "# Select only relevant columns from metadata.csv\n",
    "metadata_df = metadata_df[['core_id', 'sex', 'age_approx']]"
   ]
  },
  {
   "cell_type": "code",
   "execution_count": 77,
   "metadata": {},
   "outputs": [
    {
     "data": {
      "text/html": [
       "<div>\n",
       "<style scoped>\n",
       "    .dataframe tbody tr th:only-of-type {\n",
       "        vertical-align: middle;\n",
       "    }\n",
       "\n",
       "    .dataframe tbody tr th {\n",
       "        vertical-align: top;\n",
       "    }\n",
       "\n",
       "    .dataframe thead th {\n",
       "        text-align: right;\n",
       "    }\n",
       "</style>\n",
       "<table border=\"1\" class=\"dataframe\">\n",
       "  <thead>\n",
       "    <tr style=\"text-align: right;\">\n",
       "      <th></th>\n",
       "      <th>core_id</th>\n",
       "      <th>sex</th>\n",
       "      <th>age_approx</th>\n",
       "    </tr>\n",
       "  </thead>\n",
       "  <tbody>\n",
       "    <tr>\n",
       "      <th>0</th>\n",
       "      <td>ISIC_1064919</td>\n",
       "      <td>male</td>\n",
       "      <td>50.0</td>\n",
       "    </tr>\n",
       "    <tr>\n",
       "      <th>1</th>\n",
       "      <td>ISIC_2708737</td>\n",
       "      <td>female</td>\n",
       "      <td>65.0</td>\n",
       "    </tr>\n",
       "    <tr>\n",
       "      <th>2</th>\n",
       "      <td>ISIC_1944865</td>\n",
       "      <td>female</td>\n",
       "      <td>45.0</td>\n",
       "    </tr>\n",
       "    <tr>\n",
       "      <th>3</th>\n",
       "      <td>ISIC_0032083</td>\n",
       "      <td>female</td>\n",
       "      <td>55.0</td>\n",
       "    </tr>\n",
       "    <tr>\n",
       "      <th>4</th>\n",
       "      <td>ISIC_0028959</td>\n",
       "      <td>male</td>\n",
       "      <td>45.0</td>\n",
       "    </tr>\n",
       "  </tbody>\n",
       "</table>\n",
       "</div>"
      ],
      "text/plain": [
       "        core_id     sex  age_approx\n",
       "0  ISIC_1064919    male        50.0\n",
       "1  ISIC_2708737  female        65.0\n",
       "2  ISIC_1944865  female        45.0\n",
       "3  ISIC_0032083  female        55.0\n",
       "4  ISIC_0028959    male        45.0"
      ]
     },
     "execution_count": 77,
     "metadata": {},
     "output_type": "execute_result"
    }
   ],
   "source": [
    "metadata_df.head()"
   ]
  },
  {
   "cell_type": "code",
   "execution_count": 78,
   "metadata": {},
   "outputs": [],
   "source": [
    "# Merge the dataframes on 'core_id'\n",
    "merged_df = pd.merge(dataset_df, metadata_df, on='core_id', how='left')"
   ]
  },
  {
   "cell_type": "code",
   "execution_count": 79,
   "metadata": {},
   "outputs": [
    {
     "data": {
      "text/html": [
       "<div>\n",
       "<style scoped>\n",
       "    .dataframe tbody tr th:only-of-type {\n",
       "        vertical-align: middle;\n",
       "    }\n",
       "\n",
       "    .dataframe tbody tr th {\n",
       "        vertical-align: top;\n",
       "    }\n",
       "\n",
       "    .dataframe thead th {\n",
       "        text-align: right;\n",
       "    }\n",
       "</style>\n",
       "<table border=\"1\" class=\"dataframe\">\n",
       "  <thead>\n",
       "    <tr style=\"text-align: right;\">\n",
       "      <th></th>\n",
       "      <th>image_id</th>\n",
       "      <th>target</th>\n",
       "      <th>core_id</th>\n",
       "      <th>sex</th>\n",
       "      <th>age_approx</th>\n",
       "    </tr>\n",
       "  </thead>\n",
       "  <tbody>\n",
       "    <tr>\n",
       "      <th>0</th>\n",
       "      <td>ISIC_0015290_0.JPG</td>\n",
       "      <td>0</td>\n",
       "      <td>ISIC_0015290</td>\n",
       "      <td>female</td>\n",
       "      <td>30.0</td>\n",
       "    </tr>\n",
       "    <tr>\n",
       "      <th>1</th>\n",
       "      <td>ISIC_0015291_0.JPG</td>\n",
       "      <td>0</td>\n",
       "      <td>ISIC_0015291</td>\n",
       "      <td>female</td>\n",
       "      <td>35.0</td>\n",
       "    </tr>\n",
       "    <tr>\n",
       "      <th>2</th>\n",
       "      <td>ISIC_0015292_0.JPG</td>\n",
       "      <td>0</td>\n",
       "      <td>ISIC_0015292</td>\n",
       "      <td>male</td>\n",
       "      <td>60.0</td>\n",
       "    </tr>\n",
       "    <tr>\n",
       "      <th>3</th>\n",
       "      <td>ISIC_0015293_0.JPG</td>\n",
       "      <td>0</td>\n",
       "      <td>ISIC_0015293</td>\n",
       "      <td>female</td>\n",
       "      <td>45.0</td>\n",
       "    </tr>\n",
       "    <tr>\n",
       "      <th>4</th>\n",
       "      <td>ISIC_0015294_0.JPG</td>\n",
       "      <td>0</td>\n",
       "      <td>ISIC_0015294</td>\n",
       "      <td>female</td>\n",
       "      <td>30.0</td>\n",
       "    </tr>\n",
       "  </tbody>\n",
       "</table>\n",
       "</div>"
      ],
      "text/plain": [
       "             image_id  target       core_id     sex  age_approx\n",
       "0  ISIC_0015290_0.JPG       0  ISIC_0015290  female        30.0\n",
       "1  ISIC_0015291_0.JPG       0  ISIC_0015291  female        35.0\n",
       "2  ISIC_0015292_0.JPG       0  ISIC_0015292    male        60.0\n",
       "3  ISIC_0015293_0.JPG       0  ISIC_0015293  female        45.0\n",
       "4  ISIC_0015294_0.JPG       0  ISIC_0015294  female        30.0"
      ]
     },
     "execution_count": 79,
     "metadata": {},
     "output_type": "execute_result"
    }
   ],
   "source": [
    "merged_df.head()"
   ]
  },
  {
   "cell_type": "code",
   "execution_count": 80,
   "metadata": {},
   "outputs": [],
   "source": [
    "# Drop 'core_id' after merging to restore original structure\n",
    "merged_df = merged_df.drop(columns=['core_id'])"
   ]
  },
  {
   "cell_type": "code",
   "execution_count": 81,
   "metadata": {},
   "outputs": [
    {
     "data": {
      "text/html": [
       "<div>\n",
       "<style scoped>\n",
       "    .dataframe tbody tr th:only-of-type {\n",
       "        vertical-align: middle;\n",
       "    }\n",
       "\n",
       "    .dataframe tbody tr th {\n",
       "        vertical-align: top;\n",
       "    }\n",
       "\n",
       "    .dataframe thead th {\n",
       "        text-align: right;\n",
       "    }\n",
       "</style>\n",
       "<table border=\"1\" class=\"dataframe\">\n",
       "  <thead>\n",
       "    <tr style=\"text-align: right;\">\n",
       "      <th></th>\n",
       "      <th>image_id</th>\n",
       "      <th>target</th>\n",
       "      <th>sex</th>\n",
       "      <th>age_approx</th>\n",
       "    </tr>\n",
       "  </thead>\n",
       "  <tbody>\n",
       "    <tr>\n",
       "      <th>0</th>\n",
       "      <td>ISIC_0015290_0.JPG</td>\n",
       "      <td>0</td>\n",
       "      <td>female</td>\n",
       "      <td>30.0</td>\n",
       "    </tr>\n",
       "    <tr>\n",
       "      <th>1</th>\n",
       "      <td>ISIC_0015291_0.JPG</td>\n",
       "      <td>0</td>\n",
       "      <td>female</td>\n",
       "      <td>35.0</td>\n",
       "    </tr>\n",
       "    <tr>\n",
       "      <th>2</th>\n",
       "      <td>ISIC_0015292_0.JPG</td>\n",
       "      <td>0</td>\n",
       "      <td>male</td>\n",
       "      <td>60.0</td>\n",
       "    </tr>\n",
       "    <tr>\n",
       "      <th>3</th>\n",
       "      <td>ISIC_0015293_0.JPG</td>\n",
       "      <td>0</td>\n",
       "      <td>female</td>\n",
       "      <td>45.0</td>\n",
       "    </tr>\n",
       "    <tr>\n",
       "      <th>4</th>\n",
       "      <td>ISIC_0015294_0.JPG</td>\n",
       "      <td>0</td>\n",
       "      <td>female</td>\n",
       "      <td>30.0</td>\n",
       "    </tr>\n",
       "  </tbody>\n",
       "</table>\n",
       "</div>"
      ],
      "text/plain": [
       "             image_id  target     sex  age_approx\n",
       "0  ISIC_0015290_0.JPG       0  female        30.0\n",
       "1  ISIC_0015291_0.JPG       0  female        35.0\n",
       "2  ISIC_0015292_0.JPG       0    male        60.0\n",
       "3  ISIC_0015293_0.JPG       0  female        45.0\n",
       "4  ISIC_0015294_0.JPG       0  female        30.0"
      ]
     },
     "execution_count": 81,
     "metadata": {},
     "output_type": "execute_result"
    }
   ],
   "source": [
    "merged_df.head()"
   ]
  },
  {
   "cell_type": "code",
   "execution_count": 82,
   "metadata": {},
   "outputs": [
    {
     "name": "stdout",
     "output_type": "stream",
     "text": [
      "Missing values in merged dataset:\n",
      "sex           2060\n",
      "age_approx    2253\n",
      "dtype: int64\n"
     ]
    }
   ],
   "source": [
    "# Check for missing values in 'sex' and 'age' columns\n",
    "missing_values = merged_df[['sex', 'age_approx']].isnull().sum()\n",
    "\n",
    "# Display results\n",
    "print(\"Missing values in merged dataset:\")\n",
    "print(missing_values)"
   ]
  },
  {
   "cell_type": "code",
   "execution_count": 83,
   "metadata": {},
   "outputs": [],
   "source": [
    "# Remove all rows with missing values\n",
    "merged_df_cleaned = merged_df.dropna()\n",
    "\n",
    "# Save the cleaned dataset\n",
    "cleaned_data_path = r\"C:\\Users\\Lian4ik\\Desktop\\derm_project\\data\\merged_cleaned_dataset.csv\"\n",
    "merged_df_cleaned.to_csv(cleaned_data_path, index=False)\n",
    "\n"
   ]
  },
  {
   "cell_type": "code",
   "execution_count": 84,
   "metadata": {},
   "outputs": [
    {
     "data": {
      "text/html": [
       "<div>\n",
       "<style scoped>\n",
       "    .dataframe tbody tr th:only-of-type {\n",
       "        vertical-align: middle;\n",
       "    }\n",
       "\n",
       "    .dataframe tbody tr th {\n",
       "        vertical-align: top;\n",
       "    }\n",
       "\n",
       "    .dataframe thead th {\n",
       "        text-align: right;\n",
       "    }\n",
       "</style>\n",
       "<table border=\"1\" class=\"dataframe\">\n",
       "  <thead>\n",
       "    <tr style=\"text-align: right;\">\n",
       "      <th></th>\n",
       "      <th>image_id</th>\n",
       "      <th>target</th>\n",
       "      <th>sex</th>\n",
       "      <th>age_approx</th>\n",
       "    </tr>\n",
       "  </thead>\n",
       "  <tbody>\n",
       "    <tr>\n",
       "      <th>0</th>\n",
       "      <td>ISIC_0015290_0.JPG</td>\n",
       "      <td>0</td>\n",
       "      <td>female</td>\n",
       "      <td>30.0</td>\n",
       "    </tr>\n",
       "    <tr>\n",
       "      <th>1</th>\n",
       "      <td>ISIC_0015291_0.JPG</td>\n",
       "      <td>0</td>\n",
       "      <td>female</td>\n",
       "      <td>35.0</td>\n",
       "    </tr>\n",
       "    <tr>\n",
       "      <th>2</th>\n",
       "      <td>ISIC_0015292_0.JPG</td>\n",
       "      <td>0</td>\n",
       "      <td>male</td>\n",
       "      <td>60.0</td>\n",
       "    </tr>\n",
       "    <tr>\n",
       "      <th>3</th>\n",
       "      <td>ISIC_0015293_0.JPG</td>\n",
       "      <td>0</td>\n",
       "      <td>female</td>\n",
       "      <td>45.0</td>\n",
       "    </tr>\n",
       "    <tr>\n",
       "      <th>4</th>\n",
       "      <td>ISIC_0015294_0.JPG</td>\n",
       "      <td>0</td>\n",
       "      <td>female</td>\n",
       "      <td>30.0</td>\n",
       "    </tr>\n",
       "  </tbody>\n",
       "</table>\n",
       "</div>"
      ],
      "text/plain": [
       "             image_id  target     sex  age_approx\n",
       "0  ISIC_0015290_0.JPG       0  female        30.0\n",
       "1  ISIC_0015291_0.JPG       0  female        35.0\n",
       "2  ISIC_0015292_0.JPG       0    male        60.0\n",
       "3  ISIC_0015293_0.JPG       0  female        45.0\n",
       "4  ISIC_0015294_0.JPG       0  female        30.0"
      ]
     },
     "execution_count": 84,
     "metadata": {},
     "output_type": "execute_result"
    }
   ],
   "source": [
    "merged_df_cleaned.head()"
   ]
  },
  {
   "cell_type": "code",
   "execution_count": 85,
   "metadata": {},
   "outputs": [
    {
     "name": "stdout",
     "output_type": "stream",
     "text": [
      "Missing values in merged dataset:\n",
      "sex           0\n",
      "age_approx    0\n",
      "dtype: int64\n"
     ]
    }
   ],
   "source": [
    "# Check for missing values in 'sex' and 'age' columns\n",
    "missing_values = merged_df_cleaned[['sex', 'age_approx']].isnull().sum()\n",
    "\n",
    "# Display results\n",
    "print(\"Missing values in merged dataset:\")\n",
    "print(missing_values)"
   ]
  },
  {
   "cell_type": "code",
   "execution_count": 86,
   "metadata": {},
   "outputs": [
    {
     "data": {
      "text/plain": [
       "70248"
      ]
     },
     "execution_count": 86,
     "metadata": {},
     "output_type": "execute_result"
    }
   ],
   "source": [
    "merged_df_cleaned.shape[0]"
   ]
  },
  {
   "cell_type": "code",
   "execution_count": 87,
   "metadata": {},
   "outputs": [
    {
     "name": "stderr",
     "output_type": "stream",
     "text": [
      "C:\\Users\\Lian4ik\\AppData\\Local\\Temp\\ipykernel_594852\\3177439209.py:2: SettingWithCopyWarning: \n",
      "A value is trying to be set on a copy of a slice from a DataFrame.\n",
      "Try using .loc[row_indexer,col_indexer] = value instead\n",
      "\n",
      "See the caveats in the documentation: https://pandas.pydata.org/pandas-docs/stable/user_guide/indexing.html#returning-a-view-versus-a-copy\n",
      "  merged_df_cleaned[\"age_approx\"] = merged_df_cleaned[\"age_approx\"].astype(int)\n"
     ]
    }
   ],
   "source": [
    "# Convert `age_approx` to integers\n",
    "merged_df_cleaned[\"age_approx\"] = merged_df_cleaned[\"age_approx\"].astype(int)"
   ]
  },
  {
   "cell_type": "code",
   "execution_count": 88,
   "metadata": {},
   "outputs": [],
   "source": [
    "# Save the merged dataset\n",
    "merged_df_cleaned.to_csv(r\"C:\\Users\\Lian4ik\\Desktop\\derm_project\\data\\merged_cleaned_dataset.csv\", index=False)"
   ]
  }
 ],
 "metadata": {
  "kernelspec": {
   "display_name": "cancer_det_env",
   "language": "python",
   "name": "python3"
  },
  "language_info": {
   "codemirror_mode": {
    "name": "ipython",
    "version": 3
   },
   "file_extension": ".py",
   "mimetype": "text/x-python",
   "name": "python",
   "nbconvert_exporter": "python",
   "pygments_lexer": "ipython3",
   "version": "3.9.21"
  }
 },
 "nbformat": 4,
 "nbformat_minor": 2
}
