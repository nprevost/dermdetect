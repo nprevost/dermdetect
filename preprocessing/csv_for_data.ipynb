{
 "cells": [
  {
   "cell_type": "markdown",
   "metadata": {},
   "source": [
    "# Création du csv"
   ]
  },
  {
   "cell_type": "code",
   "execution_count": null,
   "metadata": {},
   "outputs": [],
   "source": [
    "import os\n",
    "import pandas as pd\n",
    "from dotenv import load_dotenv\n",
    "\n",
    "load_dotenv(dotenv_path='.env')\n",
    "            \n",
    "csv_path = os.getenv('CSV_PATH')\n",
    "image_dir = os.getenv('IMAGE_DIR')"
   ]
  },
  {
   "cell_type": "markdown",
   "metadata": {},
   "source": [
    "## CSV ben :"
   ]
  },
  {
   "cell_type": "code",
   "execution_count": 5,
   "metadata": {},
   "outputs": [
    {
     "ename": "FileNotFoundError",
     "evalue": "[Errno 2] No such file or directory: '/Users/maurice/Documents/data_nogit/Dermdetect/BEN'",
     "output_type": "error",
     "traceback": [
      "\u001b[0;31m---------------------------------------------------------------------------\u001b[0m",
      "\u001b[0;31mFileNotFoundError\u001b[0m                         Traceback (most recent call last)",
      "Cell \u001b[0;32mIn[5], line 10\u001b[0m\n\u001b[1;32m      8\u001b[0m \u001b[38;5;66;03m# Récupérer les noms des fichiers image\u001b[39;00m\n\u001b[1;32m      9\u001b[0m extensions_images \u001b[38;5;241m=\u001b[39m (\u001b[38;5;124m'\u001b[39m\u001b[38;5;124m.jpg\u001b[39m\u001b[38;5;124m'\u001b[39m)\n\u001b[0;32m---> 10\u001b[0m noms_images \u001b[38;5;241m=\u001b[39m [f \u001b[38;5;28;01mfor\u001b[39;00m f \u001b[38;5;129;01min\u001b[39;00m os\u001b[38;5;241m.\u001b[39mlistdir(dossier_images) \u001b[38;5;28;01mif\u001b[39;00m f\u001b[38;5;241m.\u001b[39mlower()\u001b[38;5;241m.\u001b[39mendswith(extensions_images)]\n\u001b[1;32m     12\u001b[0m \u001b[38;5;66;03m# Créer un DataFrame\u001b[39;00m\n\u001b[1;32m     13\u001b[0m df \u001b[38;5;241m=\u001b[39m pd\u001b[38;5;241m.\u001b[39mDataFrame(noms_images, columns\u001b[38;5;241m=\u001b[39m[\u001b[38;5;124m'\u001b[39m\u001b[38;5;124mimage_id\u001b[39m\u001b[38;5;124m'\u001b[39m])\n",
      "\u001b[0;31mFileNotFoundError\u001b[0m: [Errno 2] No such file or directory: '/Users/maurice/Documents/data_nogit/Dermdetect/BEN'"
     ]
    }
   ],
   "source": [
    "# Chemin vers ton dossier contenant les images\n",
    "dossier_images = image_dir + \"/BEN\"\n",
    "fichier_csv = csv_path + \"/ben.csv\"\n",
    "\n",
    "# Récupérer les noms des fichiers image\n",
    "extensions_images = ('.jpg')\n",
    "noms_images = [f for f in os.listdir(dossier_images) if f.lower().endswith(extensions_images)]\n",
    "\n",
    "# Créer un DataFrame\n",
    "df = pd.DataFrame(noms_images, columns=['image_id'])\n",
    "df['target'] = 'benign'\n",
    "\n",
    "# Sauvegarder en CSV\n",
    "df.to_csv(fichier_csv, index=False)\n",
    "\n",
    "print(f\"Le fichier {fichier_csv} a été créé avec succès !\")\n"
   ]
  },
  {
   "cell_type": "markdown",
   "metadata": {},
   "source": [
    "## CSV mal :"
   ]
  },
  {
   "cell_type": "code",
   "execution_count": 3,
   "metadata": {},
   "outputs": [
    {
     "name": "stdout",
     "output_type": "stream",
     "text": [
      "Le fichier /Users/maurice/Documents/certification/dermdetect/csv/mal.csv a été créé avec succès !\n"
     ]
    }
   ],
   "source": [
    "dossier_images = image_dir + \"/MAL\"\n",
    "fichier_csv = csv_path + \"/mal.csv\"\n",
    "\n",
    "# Récupérer les noms des fichiers image\n",
    "extensions_images = ('.jpg')\n",
    "noms_images = [f for f in os.listdir(dossier_images) if f.lower().endswith(extensions_images)]\n",
    "\n",
    "# Créer un DataFrame\n",
    "df = pd.DataFrame(noms_images, columns=['image_id'])\n",
    "df['target'] = 'malignant'\n",
    "\n",
    "# Sauvegarder en CSV\n",
    "df.to_csv(fichier_csv, index=False)\n",
    "\n",
    "print(f\"Le fichier {fichier_csv} a été créé avec succès !\")\n",
    "\n"
   ]
  },
  {
   "cell_type": "markdown",
   "metadata": {},
   "source": [
    "## CSV final :"
   ]
  },
  {
   "cell_type": "code",
   "execution_count": 4,
   "metadata": {},
   "outputs": [],
   "source": [
    "ben = csv_path + \"/ben.csv\"\n",
    "mal = csv_path + \"/mal.csv\"\n",
    "csv_final = csv_path + \"/dataset.csv\"\n",
    "\n",
    "# Charger les fichiers CSV en DataFrame\n",
    "df_ben = pd.read_csv(ben)\n",
    "df_mal = pd.read_csv(mal)\n",
    "df_final = pd.concat([df_ben, df_mal], ignore_index=True)\n",
    "\n",
    "df_final.to_csv(csv_final, index=False)\n"
   ]
  },
  {
   "cell_type": "markdown",
   "metadata": {},
   "source": [
    "## Remplacer 0/1 par benign et malignant pour flow_from / class_mode = 'binary'"
   ]
  },
  {
   "cell_type": "code",
   "execution_count": 6,
   "metadata": {},
   "outputs": [
    {
     "name": "stdout",
     "output_type": "stream",
     "text": [
      "             image_id  target\n",
      "0  ISIC_1064919_0.JPG  benign\n",
      "1  ISIC_2708737_0.JPG  benign\n",
      "2  ISIC_1944865_0.JPG  benign\n",
      "3  ISIC_0032083_0.JPG  benign\n",
      "4  ISIC_0028959_0.JPG  benign\n"
     ]
    }
   ],
   "source": [
    "# Exemple de DataFrame\n",
    "df_final = pd.read_csv(csv_final)\n",
    "\n",
    "# Remplacement des valeurs 0 -> 'benign' et 1 -> 'malignant'\n",
    "df_final[\"target\"] = df_final[\"target\"].replace({0: \"benign\", 1: \"malignant\"})\n",
    "\n",
    "# Vérification des changements\n",
    "print(df_final.head())"
   ]
  },
  {
   "cell_type": "code",
   "execution_count": 8,
   "metadata": {},
   "outputs": [],
   "source": [
    "df_final.to_csv(csv_final, index=False, encoding='utf-8')\n"
   ]
  },
  {
   "cell_type": "code",
   "execution_count": 1,
   "metadata": {},
   "outputs": [
    {
     "name": "stdout",
     "output_type": "stream",
     "text": [
      "Nombre total d'images disponibles après correspondance : 72600\n",
      "Le fichier CSV nettoyé a été sauvegardé dans : /Users/maurice/Documents/certification/dermdetect/csv/dataset.csv\n"
     ]
    }
   ],
   "source": [
    "import os\n",
    "import pandas as pd\n",
    "\n",
    "# Définition des chemins\n",
    "csv_path = \"/Users/maurice/Documents/certification/dermdetect/csv/dataset.csv\"\n",
    "image_dir = \"/Users/maurice/Documents/data_nogit/Dermdetect/ALL\"\n",
    "\n",
    "# Charger le fichier CSV\n",
    "df = pd.read_csv(csv_path)\n",
    "\n",
    "# Normalisation des noms d'images (suppression des espaces et conversion en minuscules)\n",
    "df['image_id'] = df['image_id'].str.strip().str.lower()\n",
    "\n",
    "# Vérification des fichiers disponibles dans le dossier\n",
    "files_in_directory = [f.lower() for f in os.listdir(image_dir)]\n",
    "\n",
    "# Ajouter le chemin complet des fichiers images\n",
    "df['image_path'] = df['image_id'].apply(lambda x: os.path.join(image_dir, x))\n",
    "\n",
    "# Filtrer les fichiers existants dans le dossier\n",
    "df_cleaned = df[df['image_path'].apply(lambda x: os.path.basename(x) in files_in_directory)]\n",
    "\n",
    "# Vérification du nombre d'images disponibles\n",
    "print(f\"Nombre total d'images disponibles après correspondance : {len(df_cleaned)}\")\n",
    "\n",
    "# Sauvegarder le nouveau DataFrame dans un fichier CSV\n",
    "output_csv_path = csv_path  # Écraser le fichier original\n",
    "df_cleaned.to_csv(output_csv_path, index=False)\n",
    "\n",
    "print(f\"Le fichier CSV nettoyé a été sauvegardé dans : {output_csv_path}\")\n"
   ]
  }
 ],
 "metadata": {
  "kernelspec": {
   "display_name": "base",
   "language": "python",
   "name": "python3"
  },
  "language_info": {
   "codemirror_mode": {
    "name": "ipython",
    "version": 3
   },
   "file_extension": ".py",
   "mimetype": "text/x-python",
   "name": "python",
   "nbconvert_exporter": "python",
   "pygments_lexer": "ipython3",
   "version": "3.12.2"
  }
 },
 "nbformat": 4,
 "nbformat_minor": 2
}
