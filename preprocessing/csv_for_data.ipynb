{
 "cells": [
  {
   "cell_type": "markdown",
   "metadata": {},
   "source": [
    "# Création du csv\n",
    "\n",
    "## CSV ben :\n"
   ]
  },
  {
   "cell_type": "code",
   "execution_count": 2,
   "metadata": {},
   "outputs": [
    {
     "name": "stdout",
     "output_type": "stream",
     "text": [
      "Le fichier /Users/maurice/Documents/certification/dermdetect/csv/ben.csv a été créé avec succès !\n"
     ]
    }
   ],
   "source": [
    "import os\n",
    "import pandas as pd\n",
    "\n",
    "# Chemin vers ton dossier contenant les images\n",
    "dossier_images = \"/Users/maurice/Documents/data_nogit/Dermdetect/BEN\"\n",
    "fichier_csv = \"/Users/maurice/Documents/certification/dermdetect/csv/ben.csv\"\n",
    "\n",
    "# Récupérer les noms des fichiers image\n",
    "extensions_images = ('.jpg')\n",
    "noms_images = [f for f in os.listdir(dossier_images) if f.lower().endswith(extensions_images)]\n",
    "\n",
    "# Créer un DataFrame\n",
    "df = pd.DataFrame(noms_images, columns=['image_id'])\n",
    "df['target'] = 0\n",
    "\n",
    "# Sauvegarder en CSV\n",
    "df.to_csv(fichier_csv, index=False)\n",
    "\n",
    "print(f\"Le fichier {fichier_csv} a été créé avec succès !\")\n"
   ]
  },
  {
   "cell_type": "markdown",
   "metadata": {},
   "source": [
    "## CSV mal :"
   ]
  },
  {
   "cell_type": "code",
   "execution_count": 3,
   "metadata": {},
   "outputs": [
    {
     "name": "stdout",
     "output_type": "stream",
     "text": [
      "Le fichier /Users/maurice/Documents/certification/dermdetect/csv/mal.csv a été créé avec succès !\n"
     ]
    }
   ],
   "source": [
    "import os\n",
    "import pandas as pd\n",
    "\n",
    "# Chemin vers ton dossier contenant les images\n",
    "dossier_images = \"/Users/maurice/Documents/data_nogit/Dermdetect/MAL\"\n",
    "fichier_csv = \"/Users/maurice/Documents/certification/dermdetect/csv/mal.csv\"\n",
    "\n",
    "# Récupérer les noms des fichiers image\n",
    "extensions_images = ('.jpg')\n",
    "noms_images = [f for f in os.listdir(dossier_images) if f.lower().endswith(extensions_images)]\n",
    "\n",
    "# Créer un DataFrame\n",
    "df = pd.DataFrame(noms_images, columns=['image_id'])\n",
    "df['target'] = 1\n",
    "\n",
    "# Sauvegarder en CSV\n",
    "df.to_csv(fichier_csv, index=False)\n",
    "\n",
    "print(f\"Le fichier {fichier_csv} a été créé avec succès !\")\n",
    "\n"
   ]
  },
  {
   "cell_type": "markdown",
   "metadata": {},
   "source": [
    "## CSV final :"
   ]
  },
  {
   "cell_type": "code",
   "execution_count": 4,
   "metadata": {},
   "outputs": [],
   "source": [
    "import pandas as pd\n",
    "\n",
    "ben = \"/Users/maurice/Documents/certification/dermdetect/csv/ben.csv\"\n",
    "mal = \"/Users/maurice/Documents/certification/dermdetect/csv/mal.csv\"\n",
    "csv_final = \"/Users/maurice/Documents/certification/dermdetect/csv/dataset.csv\"\n",
    "\n",
    "# Charger les fichiers CSV en DataFrame\n",
    "df_ben = pd.read_csv(ben)\n",
    "df_mal = pd.read_csv(mal)\n",
    "df_final = pd.concat([df_ben, df_mal], ignore_index=True)\n",
    "\n",
    "df_final.to_csv(csv_final, index=False)\n"
   ]
  },
  {
   "cell_type": "code",
   "execution_count": null,
   "metadata": {},
   "outputs": [],
   "source": []
  }
 ],
 "metadata": {
  "kernelspec": {
   "display_name": "base",
   "language": "python",
   "name": "python3"
  },
  "language_info": {
   "codemirror_mode": {
    "name": "ipython",
    "version": 3
   },
   "file_extension": ".py",
   "mimetype": "text/x-python",
   "name": "python",
   "nbconvert_exporter": "python",
   "pygments_lexer": "ipython3",
   "version": "3.12.2"
  }
 },
 "nbformat": 4,
 "nbformat_minor": 2
}
