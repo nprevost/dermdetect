{
 "cells": [
  {
   "cell_type": "code",
   "execution_count": 1,
   "metadata": {},
   "outputs": [],
   "source": [
    "import os\n",
    "import pandas as pd\n",
    "import mlflow\n",
    "import mlflow.tensorflow\n",
    "import tensorflow as tf\n",
    "from tensorflow.keras.applications import ResNet50\n",
    "from tensorflow.keras.models import Sequential\n",
    "from tensorflow.keras.layers import Dense, BatchNormalization, GlobalAveragePooling2D, Flatten, Dropout\n",
    "from tensorflow.keras.optimizers import Adam\n",
    "from tensorflow.keras.preprocessing.image import ImageDataGenerator\n",
    "from tensorflow.keras.models import Model\n",
    "from tensorflow.keras.metrics import Precision, Recall\n",
    "from sklearn.metrics import confusion_matrix, roc_curve, auc\n",
    "import matplotlib.pyplot as plt\n",
    "import numpy as np\n",
    "import plotly.express as px"
   ]
  },
  {
   "cell_type": "code",
   "execution_count": 2,
   "metadata": {},
   "outputs": [],
   "source": [
    "sample_csv_path = \"/Users/maurice/Documents/certification/dermdetect/csv/sample_dataset.csv\"\n",
    "sampled_image_dir = \"/Users/maurice/Documents/data_nogit/Dermdetect/SAMPLE_20\""
   ]
  },
  {
   "cell_type": "code",
   "execution_count": 3,
   "metadata": {},
   "outputs": [
    {
     "data": {
      "text/html": [
       "<div>\n",
       "<style scoped>\n",
       "    .dataframe tbody tr th:only-of-type {\n",
       "        vertical-align: middle;\n",
       "    }\n",
       "\n",
       "    .dataframe tbody tr th {\n",
       "        vertical-align: top;\n",
       "    }\n",
       "\n",
       "    .dataframe thead th {\n",
       "        text-align: right;\n",
       "    }\n",
       "</style>\n",
       "<table border=\"1\" class=\"dataframe\">\n",
       "  <thead>\n",
       "    <tr style=\"text-align: right;\">\n",
       "      <th></th>\n",
       "      <th>image_id</th>\n",
       "      <th>target</th>\n",
       "    </tr>\n",
       "  </thead>\n",
       "  <tbody>\n",
       "    <tr>\n",
       "      <th>0</th>\n",
       "      <td>isic_0014666_1.jpg</td>\n",
       "      <td>malignant</td>\n",
       "    </tr>\n",
       "    <tr>\n",
       "      <th>1</th>\n",
       "      <td>isic_4974820_0.jpg</td>\n",
       "      <td>benign</td>\n",
       "    </tr>\n",
       "    <tr>\n",
       "      <th>2</th>\n",
       "      <td>isic_0071045_4.jpg</td>\n",
       "      <td>malignant</td>\n",
       "    </tr>\n",
       "    <tr>\n",
       "      <th>3</th>\n",
       "      <td>isic_5189439_3.jpg</td>\n",
       "      <td>malignant</td>\n",
       "    </tr>\n",
       "    <tr>\n",
       "      <th>4</th>\n",
       "      <td>isic_0817140_0.jpg</td>\n",
       "      <td>benign</td>\n",
       "    </tr>\n",
       "    <tr>\n",
       "      <th>...</th>\n",
       "      <td>...</td>\n",
       "      <td>...</td>\n",
       "    </tr>\n",
       "    <tr>\n",
       "      <th>14515</th>\n",
       "      <td>isic_0033552_0.jpg</td>\n",
       "      <td>benign</td>\n",
       "    </tr>\n",
       "    <tr>\n",
       "      <th>14516</th>\n",
       "      <td>isic_7490806_0.jpg</td>\n",
       "      <td>malignant</td>\n",
       "    </tr>\n",
       "    <tr>\n",
       "      <th>14517</th>\n",
       "      <td>isic_7072802_0.jpg</td>\n",
       "      <td>benign</td>\n",
       "    </tr>\n",
       "    <tr>\n",
       "      <th>14518</th>\n",
       "      <td>isic_0025505_0.jpg</td>\n",
       "      <td>benign</td>\n",
       "    </tr>\n",
       "    <tr>\n",
       "      <th>14519</th>\n",
       "      <td>isic_0035964_0.jpg</td>\n",
       "      <td>malignant</td>\n",
       "    </tr>\n",
       "  </tbody>\n",
       "</table>\n",
       "<p>14520 rows × 2 columns</p>\n",
       "</div>"
      ],
      "text/plain": [
       "                 image_id     target\n",
       "0      isic_0014666_1.jpg  malignant\n",
       "1      isic_4974820_0.jpg     benign\n",
       "2      isic_0071045_4.jpg  malignant\n",
       "3      isic_5189439_3.jpg  malignant\n",
       "4      isic_0817140_0.jpg     benign\n",
       "...                   ...        ...\n",
       "14515  isic_0033552_0.jpg     benign\n",
       "14516  isic_7490806_0.jpg  malignant\n",
       "14517  isic_7072802_0.jpg     benign\n",
       "14518  isic_0025505_0.jpg     benign\n",
       "14519  isic_0035964_0.jpg  malignant\n",
       "\n",
       "[14520 rows x 2 columns]"
      ]
     },
     "execution_count": 3,
     "metadata": {},
     "output_type": "execute_result"
    }
   ],
   "source": [
    "df_sample = pd.read_csv(sample_csv_path)\n",
    "df_sample"
   ]
  },
  {
   "cell_type": "code",
   "execution_count": 4,
   "metadata": {},
   "outputs": [],
   "source": [
    "img_generator = ImageDataGenerator(\n",
    "    rescale=1/255,\n",
    "    validation_split=0.3\n",
    ")"
   ]
  },
  {
   "cell_type": "code",
   "execution_count": 5,
   "metadata": {},
   "outputs": [
    {
     "name": "stdout",
     "output_type": "stream",
     "text": [
      "Found 10164 validated image filenames belonging to 2 classes.\n",
      "Found 4356 validated image filenames belonging to 2 classes.\n"
     ]
    }
   ],
   "source": [
    "# Générateur pour l'ensemble d'entraînement\n",
    "train_generator = img_generator.flow_from_dataframe(\n",
    "    dataframe=df_sample,\n",
    "    directory=sampled_image_dir,\n",
    "    x_col=\"image_id\",\n",
    "    y_col=\"target\",\n",
    "    target_size=(128, 128),\n",
    "    batch_size=32,\n",
    "    class_mode=\"binary\",\n",
    "    #shuffle=True,\n",
    "    subset=\"training\",\n",
    "    seed=42\n",
    ")\n",
    "\n",
    "# Générateur pour l'ensemble de validation\n",
    "val_generator = img_generator.flow_from_dataframe(\n",
    "    dataframe=df_sample,\n",
    "    directory=sampled_image_dir,\n",
    "    x_col=\"image_id\",\n",
    "    y_col=\"target\",\n",
    "    target_size=(128, 128),\n",
    "    batch_size=32,\n",
    "    class_mode=\"binary\",\n",
    "    #shuffle=True,\n",
    "    subset=\"validation\",\n",
    "    seed=42\n",
    ")"
   ]
  },
  {
   "cell_type": "code",
   "execution_count": 6,
   "metadata": {},
   "outputs": [],
   "source": [
    "base_model  = ResNet50(\n",
    "                        weights='imagenet',\n",
    "                        include_top=False,\n",
    "                        input_shape=(128, 128, 3)\n",
    "                        )\n",
    "\n",
    "base_model.trainable = False  # Freeze the base model"
   ]
  },
  {
   "cell_type": "code",
   "execution_count": 7,
   "metadata": {},
   "outputs": [],
   "source": [
    "x = Flatten()(base_model.output)\n",
    "x = Dense(128, activation='relu')(x)\n",
    "output = Dense(1, activation='sigmoid')(x)\n",
    "\n",
    "model = Model(inputs=base_model.input, outputs=output)"
   ]
  },
  {
   "cell_type": "code",
   "execution_count": 8,
   "metadata": {},
   "outputs": [],
   "source": [
    "model.compile(optimizer=Adam(learning_rate=0.001), \n",
    "              loss='binary_crossentropy',  \n",
    "              metrics=['accuracy', \n",
    "                       Precision(name=\"precision\"), \n",
    "                       Recall(name=\"recall\"), \n",
    "                       tf.keras.metrics.AUC(name=\"auc\")]\n",
    "              )"
   ]
  },
  {
   "cell_type": "code",
   "execution_count": 9,
   "metadata": {},
   "outputs": [
    {
     "name": "stdout",
     "output_type": "stream",
     "text": [
      "Epoch 1/5\n"
     ]
    },
    {
     "name": "stderr",
     "output_type": "stream",
     "text": [
      "/opt/anaconda3/lib/python3.12/site-packages/keras/src/trainers/data_adapters/py_dataset_adapter.py:121: UserWarning: Your `PyDataset` class should call `super().__init__(**kwargs)` in its constructor. `**kwargs` can include `workers`, `use_multiprocessing`, `max_queue_size`. Do not pass these arguments to `fit()`, as they will be ignored.\n",
      "  self._warn_if_super_not_called()\n"
     ]
    },
    {
     "name": "stdout",
     "output_type": "stream",
     "text": [
      "\u001b[1m318/318\u001b[0m \u001b[32m━━━━━━━━━━━━━━━━━━━━\u001b[0m\u001b[37m\u001b[0m \u001b[1m71s\u001b[0m 218ms/step - accuracy: 0.5601 - auc: 0.5893 - loss: 0.7206 - precision: 0.5484 - recall: 0.5177 - val_accuracy: 0.6283 - val_auc: 0.8200 - val_loss: 0.6159 - val_precision: 0.8787 - val_recall: 0.2989\n",
      "Epoch 2/5\n",
      "\u001b[1m318/318\u001b[0m \u001b[32m━━━━━━━━━━━━━━━━━━━━\u001b[0m\u001b[37m\u001b[0m \u001b[1m71s\u001b[0m 224ms/step - accuracy: 0.6854 - auc: 0.7451 - loss: 0.5979 - precision: 0.6983 - recall: 0.6409 - val_accuracy: 0.7165 - val_auc: 0.8344 - val_loss: 0.5799 - val_precision: 0.6478 - val_recall: 0.9505\n",
      "Epoch 3/5\n",
      "\u001b[1m318/318\u001b[0m \u001b[32m━━━━━━━━━━━━━━━━━━━━\u001b[0m\u001b[37m\u001b[0m \u001b[1m74s\u001b[0m 234ms/step - accuracy: 0.6871 - auc: 0.7573 - loss: 0.5857 - precision: 0.6880 - recall: 0.6378 - val_accuracy: 0.6882 - val_auc: 0.8432 - val_loss: 0.5553 - val_precision: 0.8575 - val_recall: 0.4525\n",
      "Epoch 4/5\n",
      "\u001b[1m318/318\u001b[0m \u001b[32m━━━━━━━━━━━━━━━━━━━━\u001b[0m\u001b[37m\u001b[0m \u001b[1m77s\u001b[0m 243ms/step - accuracy: 0.7332 - auc: 0.8130 - loss: 0.5355 - precision: 0.7515 - recall: 0.6675 - val_accuracy: 0.7247 - val_auc: 0.8524 - val_loss: 0.5606 - val_precision: 0.6544 - val_recall: 0.9541\n",
      "Epoch 5/5\n",
      "\u001b[1m318/318\u001b[0m \u001b[32m━━━━━━━━━━━━━━━━━━━━\u001b[0m\u001b[37m\u001b[0m \u001b[1m79s\u001b[0m 249ms/step - accuracy: 0.7408 - auc: 0.8171 - loss: 0.5231 - precision: 0.7453 - recall: 0.6843 - val_accuracy: 0.5822 - val_auc: 0.8603 - val_loss: 0.6168 - val_precision: 0.5454 - val_recall: 0.9945\n"
     ]
    },
    {
     "data": {
      "text/plain": [
       "<keras.src.callbacks.history.History at 0x3865cc590>"
      ]
     },
     "execution_count": 9,
     "metadata": {},
     "output_type": "execute_result"
    }
   ],
   "source": [
    "model.fit(\n",
    "    train_generator,\n",
    "    epochs=5,\n",
    "    validation_data=val_generator,\n",
    "    verbose=1\n",
    "    )"
   ]
  },
  {
   "cell_type": "code",
   "execution_count": 10,
   "metadata": {},
   "outputs": [
    {
     "name": "stdout",
     "output_type": "stream",
     "text": [
      "\u001b[1m137/137\u001b[0m \u001b[32m━━━━━━━━━━━━━━━━━━━━\u001b[0m\u001b[37m\u001b[0m \u001b[1m25s\u001b[0m 175ms/step\n",
      "Accuracy : 0.5083\n",
      "Precision : 0.5049\n",
      "Recall : 0.9207\n",
      "F1-score : 0.6522\n"
     ]
    }
   ],
   "source": [
    "from sklearn.metrics import accuracy_score, precision_score, recall_score, f1_score\n",
    "\n",
    "# Obtenir les vraies étiquettes du set de validation\n",
    "y_true = val_generator.classes  # Contient les vraies classes (0 ou 1)\n",
    "\n",
    "# Prédire les probabilités des images du set de validation\n",
    "y_pred_proba = model.predict(val_generator)\n",
    "\n",
    "# Convertir les probabilités en classes binaires (seuil à 0.5)\n",
    "y_pred = (y_pred_proba > 0.5).astype(int)\n",
    "\n",
    "# Calcul des scores\n",
    "accuracy = accuracy_score(y_true, y_pred)\n",
    "precision = precision_score(y_true, y_pred)\n",
    "recall = recall_score(y_true, y_pred)\n",
    "f1 = f1_score(y_true, y_pred)\n",
    "\n",
    "# Affichage des résultats\n",
    "print(f\"Accuracy : {accuracy:.4f}\")\n",
    "print(f\"Precision : {precision:.4f}\")\n",
    "print(f\"Recall : {recall:.4f}\")\n",
    "print(f\"F1-score : {f1:.4f}\")"
   ]
  },
  {
   "cell_type": "code",
   "execution_count": 12,
   "metadata": {},
   "outputs": [
    {
     "data": {
      "image/png": "[encoded data removed]",
      "text/plain": [
       "<Figure size 500x400 with 2 Axes>"
      ]
     },
     "metadata": {},
     "output_type": "display_data"
    }
   ],
   "source": [
    "import seaborn as sns\n",
    "import matplotlib.pyplot as plt\n",
    "from sklearn.metrics import confusion_matrix\n",
    "\n",
    "# Calculer la matrice de confusion\n",
    "conf_matrix = confusion_matrix(y_true, y_pred)\n",
    "\n",
    "# Afficher sous forme de heatmap\n",
    "plt.figure(figsize=(5,4))\n",
    "sns.heatmap(conf_matrix, annot=True, fmt=\"d\", cmap=\"Blues\", xticklabels=[\"Bénin\", \"Malin\"], yticklabels=[\"Bénin\", \"Malin\"])\n",
    "plt.xlabel(\"Prédictions\")\n",
    "plt.ylabel(\"Vraies classes\")\n",
    "plt.title(\"Matrice de Confusion\")\n",
    "plt.show()\n",
    "\n"
   ]
  },
  {
   "cell_type": "code",
   "execution_count": null,
   "metadata": {},
   "outputs": [],
   "source": []
  }
 ],
 "metadata": {
  "kernelspec": {
   "display_name": "base",
   "language": "python",
   "name": "python3"
  },
  "language_info": {
   "codemirror_mode": {
    "name": "ipython",
    "version": 3
   },
   "file_extension": ".py",
   "mimetype": "text/x-python",
   "name": "python",
   "nbconvert_exporter": "python",
   "pygments_lexer": "ipython3",
   "version": "3.12.2"
  }
 },
 "nbformat": 4,
 "nbformat_minor": 2
}
